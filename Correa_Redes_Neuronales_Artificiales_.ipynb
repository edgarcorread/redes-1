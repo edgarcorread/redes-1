{
  "nbformat": 4,
  "nbformat_minor": 0,
  "metadata": {
    "colab": {
      "provenance": []
    },
    "kernelspec": {
      "name": "python3",
      "display_name": "Python 3"
    },
    "language_info": {
      "name": "python"
    }
  },
  "cells": [
    {
      "cell_type": "markdown",
      "source": [
        "TRABAJO PRACTICO NÚMERO 1 EDGAR CORREA DIAZGRANADOS"
      ],
      "metadata": {
        "id": "1jDHl4slZ3sv"
      }
    },
    {
      "cell_type": "markdown",
      "source": [
        "# Redes Neuronales Artificiales"
      ],
      "metadata": {
        "id": "myPkFEXtl4jr"
      }
    },
    {
      "cell_type": "code",
      "source": [
        "# usar https://scikit-learn.org/stable/modules/neural_networks_supervised.html\n",
        "\n",
        "import pandas as pd\n",
        "import numpy as np\n",
        "import seaborn as sns\n",
        "import matplotlib.pyplot as plt"
      ],
      "metadata": {
        "id": "lZ3hAAQvniHL"
      },
      "execution_count": null,
      "outputs": []
    },
    {
      "cell_type": "markdown",
      "source": [
        "## 1. Lectura de datos"
      ],
      "metadata": {
        "id": "KW67kL0Dl9rC"
      }
    },
    {
      "cell_type": "markdown",
      "source": [
        "## 1.1. Planteamiento del problema\n",
        "\n",
        "Una empresa automovilística china, Geely Auto, aspira a entrar en el mercado estadounidense estableciendo allí su unidad de fabricación y producción de automóviles localmente para competir con sus contrapartes estadounidenses y europeas.\n",
        "\n",
        "Han contratado a una empresa de consultoría de automóviles para comprender los factores de los que depende el precio de los automóviles. Específicamente, quieren comprender los factores que afectan el precio de los automóviles en el mercado estadounidense, ya que pueden ser muy diferentes del mercado chino. La empresa quiere saber:\n",
        "\n",
        "¿Qué variables son significativas para predecir el precio de un automóvil?\n",
        "Qué tan bien esas variables describen el precio de un automóvil\n",
        "Con base en varias encuestas de mercado, la consultora ha recopilado un gran conjunto de datos de diferentes tipos de automóviles en todo el mercado estadounidense.\n",
        "\n",
        "## 1.2 Objetivo comercial\n",
        "\n",
        "El  objetivo es  modelar el precio de los automóviles con las variables independientes disponibles. Dicho modelo será utilizado por la gerencia para comprender cómo varían exactamente los precios con las variables independientes. En consecuencia, pueden manipular el diseño de los automóviles, la estrategia comercial, etc. para cumplir con ciertos niveles de precios. Además, el modelo será una buena manera para que la gerencia entienda la dinámica de precios de un nuevo mercado."
      ],
      "metadata": {
        "id": "TYOlFiiDa1Zj"
      }
    },
    {
      "cell_type": "code",
      "source": [
        "# https://www.kaggle.com/datasets/hellbuoy/car-price-prediction\n",
        "\n",
        "df = pd.read_csv(\"/content/CarPrice_Assignment.csv\")\n",
        "df"
      ],
      "metadata": {
        "id": "SFSI7O9fl9D2",
        "colab": {
          "base_uri": "https://localhost:8080/",
          "height": 574
        },
        "outputId": "ca3933ff-eb33-485b-e355-34b90b5174e1"
      },
      "execution_count": null,
      "outputs": [
        {
          "output_type": "execute_result",
          "data": {
            "text/plain": [
              "     car_ID  symboling                   CarName fueltype aspiration  \\\n",
              "0         1          3        alfa-romero giulia      gas        std   \n",
              "1         2          3       alfa-romero stelvio      gas        std   \n",
              "2         3          1  alfa-romero Quadrifoglio      gas        std   \n",
              "3         4          2               audi 100 ls      gas        std   \n",
              "4         5          2                audi 100ls      gas        std   \n",
              "..      ...        ...                       ...      ...        ...   \n",
              "200     201         -1           volvo 145e (sw)      gas        std   \n",
              "201     202         -1               volvo 144ea      gas      turbo   \n",
              "202     203         -1               volvo 244dl      gas        std   \n",
              "203     204         -1                 volvo 246   diesel      turbo   \n",
              "204     205         -1               volvo 264gl      gas      turbo   \n",
              "\n",
              "    doornumber      carbody drivewheel enginelocation  wheelbase  ...  \\\n",
              "0          two  convertible        rwd          front       88.6  ...   \n",
              "1          two  convertible        rwd          front       88.6  ...   \n",
              "2          two    hatchback        rwd          front       94.5  ...   \n",
              "3         four        sedan        fwd          front       99.8  ...   \n",
              "4         four        sedan        4wd          front       99.4  ...   \n",
              "..         ...          ...        ...            ...        ...  ...   \n",
              "200       four        sedan        rwd          front      109.1  ...   \n",
              "201       four        sedan        rwd          front      109.1  ...   \n",
              "202       four        sedan        rwd          front      109.1  ...   \n",
              "203       four        sedan        rwd          front      109.1  ...   \n",
              "204       four        sedan        rwd          front      109.1  ...   \n",
              "\n",
              "     enginesize  fuelsystem  boreratio  stroke compressionratio horsepower  \\\n",
              "0           130        mpfi       3.47    2.68              9.0        111   \n",
              "1           130        mpfi       3.47    2.68              9.0        111   \n",
              "2           152        mpfi       2.68    3.47              9.0        154   \n",
              "3           109        mpfi       3.19    3.40             10.0        102   \n",
              "4           136        mpfi       3.19    3.40              8.0        115   \n",
              "..          ...         ...        ...     ...              ...        ...   \n",
              "200         141        mpfi       3.78    3.15              9.5        114   \n",
              "201         141        mpfi       3.78    3.15              8.7        160   \n",
              "202         173        mpfi       3.58    2.87              8.8        134   \n",
              "203         145         idi       3.01    3.40             23.0        106   \n",
              "204         141        mpfi       3.78    3.15              9.5        114   \n",
              "\n",
              "     peakrpm citympg  highwaympg    price  \n",
              "0       5000      21          27  13495.0  \n",
              "1       5000      21          27  16500.0  \n",
              "2       5000      19          26  16500.0  \n",
              "3       5500      24          30  13950.0  \n",
              "4       5500      18          22  17450.0  \n",
              "..       ...     ...         ...      ...  \n",
              "200     5400      23          28  16845.0  \n",
              "201     5300      19          25  19045.0  \n",
              "202     5500      18          23  21485.0  \n",
              "203     4800      26          27  22470.0  \n",
              "204     5400      19          25  22625.0  \n",
              "\n",
              "[205 rows x 26 columns]"
            ],
            "text/html": [
              "\n",
              "  <div id=\"df-50b0c069-8394-4734-bcd8-c9c8e0b52d9f\">\n",
              "    <div class=\"colab-df-container\">\n",
              "      <div>\n",
              "<style scoped>\n",
              "    .dataframe tbody tr th:only-of-type {\n",
              "        vertical-align: middle;\n",
              "    }\n",
              "\n",
              "    .dataframe tbody tr th {\n",
              "        vertical-align: top;\n",
              "    }\n",
              "\n",
              "    .dataframe thead th {\n",
              "        text-align: right;\n",
              "    }\n",
              "</style>\n",
              "<table border=\"1\" class=\"dataframe\">\n",
              "  <thead>\n",
              "    <tr style=\"text-align: right;\">\n",
              "      <th></th>\n",
              "      <th>car_ID</th>\n",
              "      <th>symboling</th>\n",
              "      <th>CarName</th>\n",
              "      <th>fueltype</th>\n",
              "      <th>aspiration</th>\n",
              "      <th>doornumber</th>\n",
              "      <th>carbody</th>\n",
              "      <th>drivewheel</th>\n",
              "      <th>enginelocation</th>\n",
              "      <th>wheelbase</th>\n",
              "      <th>...</th>\n",
              "      <th>enginesize</th>\n",
              "      <th>fuelsystem</th>\n",
              "      <th>boreratio</th>\n",
              "      <th>stroke</th>\n",
              "      <th>compressionratio</th>\n",
              "      <th>horsepower</th>\n",
              "      <th>peakrpm</th>\n",
              "      <th>citympg</th>\n",
              "      <th>highwaympg</th>\n",
              "      <th>price</th>\n",
              "    </tr>\n",
              "  </thead>\n",
              "  <tbody>\n",
              "    <tr>\n",
              "      <th>0</th>\n",
              "      <td>1</td>\n",
              "      <td>3</td>\n",
              "      <td>alfa-romero giulia</td>\n",
              "      <td>gas</td>\n",
              "      <td>std</td>\n",
              "      <td>two</td>\n",
              "      <td>convertible</td>\n",
              "      <td>rwd</td>\n",
              "      <td>front</td>\n",
              "      <td>88.6</td>\n",
              "      <td>...</td>\n",
              "      <td>130</td>\n",
              "      <td>mpfi</td>\n",
              "      <td>3.47</td>\n",
              "      <td>2.68</td>\n",
              "      <td>9.0</td>\n",
              "      <td>111</td>\n",
              "      <td>5000</td>\n",
              "      <td>21</td>\n",
              "      <td>27</td>\n",
              "      <td>13495.0</td>\n",
              "    </tr>\n",
              "    <tr>\n",
              "      <th>1</th>\n",
              "      <td>2</td>\n",
              "      <td>3</td>\n",
              "      <td>alfa-romero stelvio</td>\n",
              "      <td>gas</td>\n",
              "      <td>std</td>\n",
              "      <td>two</td>\n",
              "      <td>convertible</td>\n",
              "      <td>rwd</td>\n",
              "      <td>front</td>\n",
              "      <td>88.6</td>\n",
              "      <td>...</td>\n",
              "      <td>130</td>\n",
              "      <td>mpfi</td>\n",
              "      <td>3.47</td>\n",
              "      <td>2.68</td>\n",
              "      <td>9.0</td>\n",
              "      <td>111</td>\n",
              "      <td>5000</td>\n",
              "      <td>21</td>\n",
              "      <td>27</td>\n",
              "      <td>16500.0</td>\n",
              "    </tr>\n",
              "    <tr>\n",
              "      <th>2</th>\n",
              "      <td>3</td>\n",
              "      <td>1</td>\n",
              "      <td>alfa-romero Quadrifoglio</td>\n",
              "      <td>gas</td>\n",
              "      <td>std</td>\n",
              "      <td>two</td>\n",
              "      <td>hatchback</td>\n",
              "      <td>rwd</td>\n",
              "      <td>front</td>\n",
              "      <td>94.5</td>\n",
              "      <td>...</td>\n",
              "      <td>152</td>\n",
              "      <td>mpfi</td>\n",
              "      <td>2.68</td>\n",
              "      <td>3.47</td>\n",
              "      <td>9.0</td>\n",
              "      <td>154</td>\n",
              "      <td>5000</td>\n",
              "      <td>19</td>\n",
              "      <td>26</td>\n",
              "      <td>16500.0</td>\n",
              "    </tr>\n",
              "    <tr>\n",
              "      <th>3</th>\n",
              "      <td>4</td>\n",
              "      <td>2</td>\n",
              "      <td>audi 100 ls</td>\n",
              "      <td>gas</td>\n",
              "      <td>std</td>\n",
              "      <td>four</td>\n",
              "      <td>sedan</td>\n",
              "      <td>fwd</td>\n",
              "      <td>front</td>\n",
              "      <td>99.8</td>\n",
              "      <td>...</td>\n",
              "      <td>109</td>\n",
              "      <td>mpfi</td>\n",
              "      <td>3.19</td>\n",
              "      <td>3.40</td>\n",
              "      <td>10.0</td>\n",
              "      <td>102</td>\n",
              "      <td>5500</td>\n",
              "      <td>24</td>\n",
              "      <td>30</td>\n",
              "      <td>13950.0</td>\n",
              "    </tr>\n",
              "    <tr>\n",
              "      <th>4</th>\n",
              "      <td>5</td>\n",
              "      <td>2</td>\n",
              "      <td>audi 100ls</td>\n",
              "      <td>gas</td>\n",
              "      <td>std</td>\n",
              "      <td>four</td>\n",
              "      <td>sedan</td>\n",
              "      <td>4wd</td>\n",
              "      <td>front</td>\n",
              "      <td>99.4</td>\n",
              "      <td>...</td>\n",
              "      <td>136</td>\n",
              "      <td>mpfi</td>\n",
              "      <td>3.19</td>\n",
              "      <td>3.40</td>\n",
              "      <td>8.0</td>\n",
              "      <td>115</td>\n",
              "      <td>5500</td>\n",
              "      <td>18</td>\n",
              "      <td>22</td>\n",
              "      <td>17450.0</td>\n",
              "    </tr>\n",
              "    <tr>\n",
              "      <th>...</th>\n",
              "      <td>...</td>\n",
              "      <td>...</td>\n",
              "      <td>...</td>\n",
              "      <td>...</td>\n",
              "      <td>...</td>\n",
              "      <td>...</td>\n",
              "      <td>...</td>\n",
              "      <td>...</td>\n",
              "      <td>...</td>\n",
              "      <td>...</td>\n",
              "      <td>...</td>\n",
              "      <td>...</td>\n",
              "      <td>...</td>\n",
              "      <td>...</td>\n",
              "      <td>...</td>\n",
              "      <td>...</td>\n",
              "      <td>...</td>\n",
              "      <td>...</td>\n",
              "      <td>...</td>\n",
              "      <td>...</td>\n",
              "      <td>...</td>\n",
              "    </tr>\n",
              "    <tr>\n",
              "      <th>200</th>\n",
              "      <td>201</td>\n",
              "      <td>-1</td>\n",
              "      <td>volvo 145e (sw)</td>\n",
              "      <td>gas</td>\n",
              "      <td>std</td>\n",
              "      <td>four</td>\n",
              "      <td>sedan</td>\n",
              "      <td>rwd</td>\n",
              "      <td>front</td>\n",
              "      <td>109.1</td>\n",
              "      <td>...</td>\n",
              "      <td>141</td>\n",
              "      <td>mpfi</td>\n",
              "      <td>3.78</td>\n",
              "      <td>3.15</td>\n",
              "      <td>9.5</td>\n",
              "      <td>114</td>\n",
              "      <td>5400</td>\n",
              "      <td>23</td>\n",
              "      <td>28</td>\n",
              "      <td>16845.0</td>\n",
              "    </tr>\n",
              "    <tr>\n",
              "      <th>201</th>\n",
              "      <td>202</td>\n",
              "      <td>-1</td>\n",
              "      <td>volvo 144ea</td>\n",
              "      <td>gas</td>\n",
              "      <td>turbo</td>\n",
              "      <td>four</td>\n",
              "      <td>sedan</td>\n",
              "      <td>rwd</td>\n",
              "      <td>front</td>\n",
              "      <td>109.1</td>\n",
              "      <td>...</td>\n",
              "      <td>141</td>\n",
              "      <td>mpfi</td>\n",
              "      <td>3.78</td>\n",
              "      <td>3.15</td>\n",
              "      <td>8.7</td>\n",
              "      <td>160</td>\n",
              "      <td>5300</td>\n",
              "      <td>19</td>\n",
              "      <td>25</td>\n",
              "      <td>19045.0</td>\n",
              "    </tr>\n",
              "    <tr>\n",
              "      <th>202</th>\n",
              "      <td>203</td>\n",
              "      <td>-1</td>\n",
              "      <td>volvo 244dl</td>\n",
              "      <td>gas</td>\n",
              "      <td>std</td>\n",
              "      <td>four</td>\n",
              "      <td>sedan</td>\n",
              "      <td>rwd</td>\n",
              "      <td>front</td>\n",
              "      <td>109.1</td>\n",
              "      <td>...</td>\n",
              "      <td>173</td>\n",
              "      <td>mpfi</td>\n",
              "      <td>3.58</td>\n",
              "      <td>2.87</td>\n",
              "      <td>8.8</td>\n",
              "      <td>134</td>\n",
              "      <td>5500</td>\n",
              "      <td>18</td>\n",
              "      <td>23</td>\n",
              "      <td>21485.0</td>\n",
              "    </tr>\n",
              "    <tr>\n",
              "      <th>203</th>\n",
              "      <td>204</td>\n",
              "      <td>-1</td>\n",
              "      <td>volvo 246</td>\n",
              "      <td>diesel</td>\n",
              "      <td>turbo</td>\n",
              "      <td>four</td>\n",
              "      <td>sedan</td>\n",
              "      <td>rwd</td>\n",
              "      <td>front</td>\n",
              "      <td>109.1</td>\n",
              "      <td>...</td>\n",
              "      <td>145</td>\n",
              "      <td>idi</td>\n",
              "      <td>3.01</td>\n",
              "      <td>3.40</td>\n",
              "      <td>23.0</td>\n",
              "      <td>106</td>\n",
              "      <td>4800</td>\n",
              "      <td>26</td>\n",
              "      <td>27</td>\n",
              "      <td>22470.0</td>\n",
              "    </tr>\n",
              "    <tr>\n",
              "      <th>204</th>\n",
              "      <td>205</td>\n",
              "      <td>-1</td>\n",
              "      <td>volvo 264gl</td>\n",
              "      <td>gas</td>\n",
              "      <td>turbo</td>\n",
              "      <td>four</td>\n",
              "      <td>sedan</td>\n",
              "      <td>rwd</td>\n",
              "      <td>front</td>\n",
              "      <td>109.1</td>\n",
              "      <td>...</td>\n",
              "      <td>141</td>\n",
              "      <td>mpfi</td>\n",
              "      <td>3.78</td>\n",
              "      <td>3.15</td>\n",
              "      <td>9.5</td>\n",
              "      <td>114</td>\n",
              "      <td>5400</td>\n",
              "      <td>19</td>\n",
              "      <td>25</td>\n",
              "      <td>22625.0</td>\n",
              "    </tr>\n",
              "  </tbody>\n",
              "</table>\n",
              "<p>205 rows × 26 columns</p>\n",
              "</div>\n",
              "      <button class=\"colab-df-convert\" onclick=\"convertToInteractive('df-50b0c069-8394-4734-bcd8-c9c8e0b52d9f')\"\n",
              "              title=\"Convert this dataframe to an interactive table.\"\n",
              "              style=\"display:none;\">\n",
              "        \n",
              "  <svg xmlns=\"http://www.w3.org/2000/svg\" height=\"24px\"viewBox=\"0 0 24 24\"\n",
              "       width=\"24px\">\n",
              "    <path d=\"M0 0h24v24H0V0z\" fill=\"none\"/>\n",
              "    <path d=\"M18.56 5.44l.94 2.06.94-2.06 2.06-.94-2.06-.94-.94-2.06-.94 2.06-2.06.94zm-11 1L8.5 8.5l.94-2.06 2.06-.94-2.06-.94L8.5 2.5l-.94 2.06-2.06.94zm10 10l.94 2.06.94-2.06 2.06-.94-2.06-.94-.94-2.06-.94 2.06-2.06.94z\"/><path d=\"M17.41 7.96l-1.37-1.37c-.4-.4-.92-.59-1.43-.59-.52 0-1.04.2-1.43.59L10.3 9.45l-7.72 7.72c-.78.78-.78 2.05 0 2.83L4 21.41c.39.39.9.59 1.41.59.51 0 1.02-.2 1.41-.59l7.78-7.78 2.81-2.81c.8-.78.8-2.07 0-2.86zM5.41 20L4 18.59l7.72-7.72 1.47 1.35L5.41 20z\"/>\n",
              "  </svg>\n",
              "      </button>\n",
              "      \n",
              "  <style>\n",
              "    .colab-df-container {\n",
              "      display:flex;\n",
              "      flex-wrap:wrap;\n",
              "      gap: 12px;\n",
              "    }\n",
              "\n",
              "    .colab-df-convert {\n",
              "      background-color: #E8F0FE;\n",
              "      border: none;\n",
              "      border-radius: 50%;\n",
              "      cursor: pointer;\n",
              "      display: none;\n",
              "      fill: #1967D2;\n",
              "      height: 32px;\n",
              "      padding: 0 0 0 0;\n",
              "      width: 32px;\n",
              "    }\n",
              "\n",
              "    .colab-df-convert:hover {\n",
              "      background-color: #E2EBFA;\n",
              "      box-shadow: 0px 1px 2px rgba(60, 64, 67, 0.3), 0px 1px 3px 1px rgba(60, 64, 67, 0.15);\n",
              "      fill: #174EA6;\n",
              "    }\n",
              "\n",
              "    [theme=dark] .colab-df-convert {\n",
              "      background-color: #3B4455;\n",
              "      fill: #D2E3FC;\n",
              "    }\n",
              "\n",
              "    [theme=dark] .colab-df-convert:hover {\n",
              "      background-color: #434B5C;\n",
              "      box-shadow: 0px 1px 3px 1px rgba(0, 0, 0, 0.15);\n",
              "      filter: drop-shadow(0px 1px 2px rgba(0, 0, 0, 0.3));\n",
              "      fill: #FFFFFF;\n",
              "    }\n",
              "  </style>\n",
              "\n",
              "      <script>\n",
              "        const buttonEl =\n",
              "          document.querySelector('#df-50b0c069-8394-4734-bcd8-c9c8e0b52d9f button.colab-df-convert');\n",
              "        buttonEl.style.display =\n",
              "          google.colab.kernel.accessAllowed ? 'block' : 'none';\n",
              "\n",
              "        async function convertToInteractive(key) {\n",
              "          const element = document.querySelector('#df-50b0c069-8394-4734-bcd8-c9c8e0b52d9f');\n",
              "          const dataTable =\n",
              "            await google.colab.kernel.invokeFunction('convertToInteractive',\n",
              "                                                     [key], {});\n",
              "          if (!dataTable) return;\n",
              "\n",
              "          const docLinkHtml = 'Like what you see? Visit the ' +\n",
              "            '<a target=\"_blank\" href=https://colab.research.google.com/notebooks/data_table.ipynb>data table notebook</a>'\n",
              "            + ' to learn more about interactive tables.';\n",
              "          element.innerHTML = '';\n",
              "          dataTable['output_type'] = 'display_data';\n",
              "          await google.colab.output.renderOutput(dataTable, element);\n",
              "          const docLink = document.createElement('div');\n",
              "          docLink.innerHTML = docLinkHtml;\n",
              "          element.appendChild(docLink);\n",
              "        }\n",
              "      </script>\n",
              "    </div>\n",
              "  </div>\n",
              "  "
            ]
          },
          "metadata": {},
          "execution_count": 3
        }
      ]
    },
    {
      "cell_type": "markdown",
      "source": [
        "# 2. Análisis de datos"
      ],
      "metadata": {
        "id": "bd60vzp5nsdt"
      }
    },
    {
      "cell_type": "markdown",
      "source": [
        "se tienen 26 variables y se comienza a analizar cada una\n",
        "\n",
        "\n",
        "\n",
        "*   Car_id: Identificación única de cada observación (Interger)\n",
        "*   Symboling: Su calificación de riesgo de seguro asignada, un valor de +3 indica que el automóvil es riesgoso, -3 que probablemente sea bastante seguro. (Categórico)\n",
        "*  CarName: Nombre de la compañía de automóviles (Categórica)\n",
        "* Fueltype: Tipo de combustible del automóvil, es decir, gasolina o diésel (categórico)\n",
        "* Aspiration: Aspiración utilizada en un automóvil (Categórico)\n",
        "* Doornumber: Número de puertas(Categorico)\n",
        "* Carbody: carroceria(categorica)\n",
        "*  Drivewheel: Tipo de rueda motriz (Categórico)\n",
        "* Enginelocation: Ubicación del motor del automóvil (Categórico)\n",
        "* Wheelbase: Distancia entre ejes del coche (numérico)\n",
        "* Carlength: Distancia entre ejes del coche (numérico)\n",
        "* Carwidth:  Ancho del coche (numérico)\n",
        "* Carheight: altura del coche (numérico)\n",
        "* curbweight: El peso de un automóvil sin ocupantes ni equipaje. (Numérico)\n",
        "* Enginetype: Tipo de motor (Categórico)\n",
        "* Cylindernumber: Cilindro colocado en el carro (Categorico)\n",
        "* Enginesize:  Tamaño del coche (numérico)\n",
        "* Fuelsystem: Sistema de combustible del coche (Categorico)\n",
        "* Boreratio: Boreratio del coche (numérico)\n",
        "* Stroke: Carrera o volumen dentro del motor (Numérico)\n",
        "* Compressionratio: Relación de compresión del coche (numérico)\n",
        "* Horsepower : Caballos de fuerza (numéricos)\n",
        "* Peakrpm: RPM pico del coche (numérico)\n",
        "* Citympg: Kilometraje en ciudad (numérico)\n",
        "* Highwaympg: Kilometraje en carretera (numérico)\n",
        "* Price: Precio del coche (Numérico)  \n"
      ],
      "metadata": {
        "id": "-i_vTSg8wPhk"
      }
    },
    {
      "cell_type": "code",
      "source": [
        "df.info() # con el fin de saber el tipo de los datos"
      ],
      "metadata": {
        "colab": {
          "base_uri": "https://localhost:8080/"
        },
        "id": "9jbyrgjtwDku",
        "outputId": "14361e12-9d3b-49c5-b95e-d58fe1af19c0"
      },
      "execution_count": null,
      "outputs": [
        {
          "output_type": "stream",
          "name": "stdout",
          "text": [
            "<class 'pandas.core.frame.DataFrame'>\n",
            "RangeIndex: 205 entries, 0 to 204\n",
            "Data columns (total 26 columns):\n",
            " #   Column            Non-Null Count  Dtype  \n",
            "---  ------            --------------  -----  \n",
            " 0   car_ID            205 non-null    int64  \n",
            " 1   symboling         205 non-null    int64  \n",
            " 2   CarName           205 non-null    object \n",
            " 3   fueltype          205 non-null    object \n",
            " 4   aspiration        205 non-null    object \n",
            " 5   doornumber        205 non-null    object \n",
            " 6   carbody           205 non-null    object \n",
            " 7   drivewheel        205 non-null    object \n",
            " 8   enginelocation    205 non-null    object \n",
            " 9   wheelbase         205 non-null    float64\n",
            " 10  carlength         205 non-null    float64\n",
            " 11  carwidth          205 non-null    float64\n",
            " 12  carheight         205 non-null    float64\n",
            " 13  curbweight        205 non-null    int64  \n",
            " 14  enginetype        205 non-null    object \n",
            " 15  cylindernumber    205 non-null    object \n",
            " 16  enginesize        205 non-null    int64  \n",
            " 17  fuelsystem        205 non-null    object \n",
            " 18  boreratio         205 non-null    float64\n",
            " 19  stroke            205 non-null    float64\n",
            " 20  compressionratio  205 non-null    float64\n",
            " 21  horsepower        205 non-null    int64  \n",
            " 22  peakrpm           205 non-null    int64  \n",
            " 23  citympg           205 non-null    int64  \n",
            " 24  highwaympg        205 non-null    int64  \n",
            " 25  price             205 non-null    float64\n",
            "dtypes: float64(8), int64(8), object(10)\n",
            "memory usage: 41.8+ KB\n"
          ]
        }
      ]
    },
    {
      "cell_type": "code",
      "source": [
        "df.isnull().sum()# con el fin de saber si hay datos nulos"
      ],
      "metadata": {
        "colab": {
          "base_uri": "https://localhost:8080/"
        },
        "id": "gljBbeeEMaSe",
        "outputId": "8ae5bf7a-327c-4a22-c55b-07aac87efc42"
      },
      "execution_count": null,
      "outputs": [
        {
          "output_type": "execute_result",
          "data": {
            "text/plain": [
              "car_ID              0\n",
              "symboling           0\n",
              "CarName             0\n",
              "fueltype            0\n",
              "aspiration          0\n",
              "doornumber          0\n",
              "carbody             0\n",
              "drivewheel          0\n",
              "enginelocation      0\n",
              "wheelbase           0\n",
              "carlength           0\n",
              "carwidth            0\n",
              "carheight           0\n",
              "curbweight          0\n",
              "enginetype          0\n",
              "cylindernumber      0\n",
              "enginesize          0\n",
              "fuelsystem          0\n",
              "boreratio           0\n",
              "stroke              0\n",
              "compressionratio    0\n",
              "horsepower          0\n",
              "peakrpm             0\n",
              "citympg             0\n",
              "highwaympg          0\n",
              "price               0\n",
              "dtype: int64"
            ]
          },
          "metadata": {},
          "execution_count": 5
        }
      ]
    },
    {
      "cell_type": "markdown",
      "source": [
        "No hay datos nulos"
      ],
      "metadata": {
        "id": "RuNymwFTM8R8"
      }
    },
    {
      "cell_type": "code",
      "source": [
        "df=df.drop(['car_ID'],axis=1) # el id se elimina"
      ],
      "metadata": {
        "id": "yLmA_qBow9z4"
      },
      "execution_count": null,
      "outputs": []
    },
    {
      "cell_type": "code",
      "source": [
        "df['symboling']=df['symboling'].astype('str')# se clasifica como una variable categorica"
      ],
      "metadata": {
        "id": "_kwuv80qGahc"
      },
      "execution_count": null,
      "outputs": []
    },
    {
      "cell_type": "code",
      "source": [
        "df['CarName'] = df['CarName'].str.split(' ',expand=True)[0]\n",
        "df['CarName'].unique()"
      ],
      "metadata": {
        "colab": {
          "base_uri": "https://localhost:8080/"
        },
        "id": "5Fic7ZX4sYiP",
        "outputId": "9034cc4b-39f1-4867-f953-419aa6f536af"
      },
      "execution_count": null,
      "outputs": [
        {
          "output_type": "execute_result",
          "data": {
            "text/plain": [
              "array(['alfa-romero', 'audi', 'bmw', 'chevrolet', 'dodge', 'honda',\n",
              "       'isuzu', 'jaguar', 'maxda', 'mazda', 'buick', 'mercury',\n",
              "       'mitsubishi', 'Nissan', 'nissan', 'peugeot', 'plymouth', 'porsche',\n",
              "       'porcshce', 'renault', 'saab', 'subaru', 'toyota', 'toyouta',\n",
              "       'vokswagen', 'volkswagen', 'vw', 'volvo'], dtype=object)"
            ]
          },
          "metadata": {},
          "execution_count": 8
        }
      ]
    },
    {
      "cell_type": "code",
      "source": [
        "df['CarName'] = df['CarName'].replace({'maxda': 'mazda', 'nissan': 'Nissan', 'porcshce': 'porsche', 'toyouta': 'toyota',\n",
        "                            'vokswagen': 'volkswagen', 'vw': 'volkswagen'})\n",
        "df['CarName'].unique()"
      ],
      "metadata": {
        "colab": {
          "base_uri": "https://localhost:8080/"
        },
        "id": "Iy6PW83aGBbF",
        "outputId": "e7989003-8f23-4c94-9847-4bb701312f68"
      },
      "execution_count": null,
      "outputs": [
        {
          "output_type": "execute_result",
          "data": {
            "text/plain": [
              "array(['alfa-romero', 'audi', 'bmw', 'chevrolet', 'dodge', 'honda',\n",
              "       'isuzu', 'jaguar', 'mazda', 'buick', 'mercury', 'mitsubishi',\n",
              "       'Nissan', 'peugeot', 'plymouth', 'porsche', 'renault', 'saab',\n",
              "       'subaru', 'toyota', 'volkswagen', 'volvo'], dtype=object)"
            ]
          },
          "metadata": {},
          "execution_count": 9
        }
      ]
    },
    {
      "cell_type": "code",
      "source": [
        "df_v=pd.DataFrame(df['CarName'].value_counts()).reset_index().rename(columns={'index':'car_name','CarName': 'count'})\n",
        "plot = sns.barplot(y='car_name',x='count',data=df_v)\n",
        "plot=plt.setp(plot.get_xticklabels(), rotation=80)"
      ],
      "metadata": {
        "colab": {
          "base_uri": "https://localhost:8080/",
          "height": 284
        },
        "id": "0UkwFb6WIZV_",
        "outputId": "bf1b3fd8-8335-4d0e-bed0-4665e7602985"
      },
      "execution_count": null,
      "outputs": [
        {
          "output_type": "display_data",
          "data": {
            "text/plain": [
              "<Figure size 432x288 with 1 Axes>"
            ],
            "image/png": "[encoded data removed]"
          },
          "metadata": {
            "needs_background": "light"
          }
        }
      ]
    },
    {
      "cell_type": "markdown",
      "source": [
        "se agrupan las variables entre categoricas y númericas"
      ],
      "metadata": {
        "id": "yeX0DCpeGzw2"
      }
    },
    {
      "cell_type": "markdown",
      "source": [
        "## Categoricas\n"
      ],
      "metadata": {
        "id": "XNfRb2AX3_4S"
      }
    },
    {
      "cell_type": "code",
      "source": [
        "categoricas_ = df.select_dtypes(include=['object']).columns\n",
        "categoricas_"
      ],
      "metadata": {
        "colab": {
          "base_uri": "https://localhost:8080/"
        },
        "id": "PSVgI-xC4EIE",
        "outputId": "e058a072-be56-4abb-b655-8e3fad85c746"
      },
      "execution_count": null,
      "outputs": [
        {
          "output_type": "execute_result",
          "data": {
            "text/plain": [
              "Index(['symboling', 'CarName', 'fueltype', 'aspiration', 'doornumber',\n",
              "       'carbody', 'drivewheel', 'enginelocation', 'enginetype',\n",
              "       'cylindernumber', 'fuelsystem'],\n",
              "      dtype='object')"
            ]
          },
          "metadata": {},
          "execution_count": 11
        }
      ]
    },
    {
      "cell_type": "code",
      "source": [
        "plt.figure(figsize=(20, 15))\n",
        "\n",
        "plt.subplot(4,3,1)\n",
        "sns.boxplot(x = 'symboling', y = 'price', data = df)\n",
        "plt.subplot(4,3,2)\n",
        "sns.boxplot(x = 'fueltype', y = 'price', data = df)\n",
        "plt.subplot(4,3,3)\n",
        "sns.boxplot(x = 'aspiration', y = 'price', data = df)\n",
        "plt.subplot(4,3,4)\n",
        "sns.boxplot(x = 'doornumber', y = 'price', data = df)\n",
        "plt.subplot(4,3,5)\n",
        "sns.boxplot(x = 'carbody', y = 'price', data = df)\n",
        "plt.subplot(4,3,6)\n",
        "sns.boxplot(x = 'drivewheel', y = 'price', data = df)\n",
        "plt.subplot(4,3,7)\n",
        "sns.boxplot(x = 'enginelocation', y = 'price', data = df)\n",
        "plt.subplot(4,3,8)\n",
        "sns.boxplot(x = 'enginetype', y = 'price', data = df)\n",
        "plt.subplot(4,3,9)\n",
        "sns.boxplot(x = 'cylindernumber', y = 'price', data = df)\n",
        "plt.subplot(4,3,10)\n",
        "sns.boxplot(x = 'fuelsystem', y = 'price', data = df)\n",
        "plt.show()"
      ],
      "metadata": {
        "colab": {
          "base_uri": "https://localhost:8080/",
          "height": 620
        },
        "id": "C3hBFHNn-Jlo",
        "outputId": "bacc7846-3311-424a-cdaf-8ee2d3466487"
      },
      "execution_count": null,
      "outputs": [
        {
          "output_type": "display_data",
          "data": {
            "text/plain": [
              "<Figure size 1440x1080 with 10 Axes>"
            ],
            "image/png": "[encoded data removed]"
          },
          "metadata": {
            "needs_background": "light"
          }
        }
      ]
    },
    {
      "cell_type": "code",
      "source": [
        "plot = sns.boxplot(x = 'CarName', y = 'price', data = df)\n",
        "plot=plt.setp(plot.get_xticklabels(), rotation=80)"
      ],
      "metadata": {
        "colab": {
          "base_uri": "https://localhost:8080/",
          "height": 329
        },
        "id": "JE-txLjREKEo",
        "outputId": "2d93fa17-1055-445b-b5ff-212c14c7636b"
      },
      "execution_count": null,
      "outputs": [
        {
          "output_type": "display_data",
          "data": {
            "text/plain": [
              "<Figure size 432x288 with 1 Axes>"
            ],
            "image/png": "[encoded data removed]"
          },
          "metadata": {
            "needs_background": "light"
          }
        }
      ]
    },
    {
      "cell_type": "markdown",
      "source": [
        "A partir del analisis descriptivo previo a realizar un modelo se pueden ver algunos datos como:\n",
        "\n",
        "* Los autos mas seguros costaran más\n",
        "*  Los automoviles que funcionan con  diesel son más caros que los que funcionan con gas\n",
        "*  Los carros con turbo son mas costosos que los carros que funcionan con std de aspiration\n",
        "* El numero de puertas no representa una gran diferencia en el precio de los vehiculos\n",
        "* Los carros convertibles son mas costosos  \n",
        "*  El tipo de rueda motriz rwd  genera que el costo sea mayor\n",
        "* La ubicación del motor en la parte trasera del auto aumento el valor del auto\n",
        "* El tipo de motor dohcv y ohcv aumneta el valor del vehiculo\n",
        "* Tener 8 cilindros genera que aumente el valor\n",
        "* El sistema de combustible mpfi es el que genera mayor aumento del valor del coche\n",
        "* Los autos Jaguar, Buick y Porsche son los autos más costosos\n",
        "\n",
        "\n",
        "\n"
      ],
      "metadata": {
        "id": "v5yeeG82-ol0"
      }
    },
    {
      "cell_type": "markdown",
      "source": [
        "## Numericas"
      ],
      "metadata": {
        "id": "86bYNmDCOwFf"
      }
    },
    {
      "cell_type": "code",
      "source": [
        "numericas = df.dtypes!=object\n",
        "numericas_ = df.columns[numericas].tolist()\n",
        "numericas_"
      ],
      "metadata": {
        "colab": {
          "base_uri": "https://localhost:8080/"
        },
        "id": "j5LLnvYDH6ul",
        "outputId": "949ef3a6-475d-4b76-a34d-0f251a2f2931"
      },
      "execution_count": null,
      "outputs": [
        {
          "output_type": "execute_result",
          "data": {
            "text/plain": [
              "['wheelbase',\n",
              " 'carlength',\n",
              " 'carwidth',\n",
              " 'carheight',\n",
              " 'curbweight',\n",
              " 'enginesize',\n",
              " 'boreratio',\n",
              " 'stroke',\n",
              " 'compressionratio',\n",
              " 'horsepower',\n",
              " 'peakrpm',\n",
              " 'citympg',\n",
              " 'highwaympg',\n",
              " 'price']"
            ]
          },
          "metadata": {},
          "execution_count": 12
        }
      ]
    },
    {
      "cell_type": "code",
      "source": [
        "sns.heatmap(df[numericas_].corr(),annot = True);"
      ],
      "metadata": {
        "colab": {
          "base_uri": "https://localhost:8080/",
          "height": 345
        },
        "id": "ynzPcG5MLaKn",
        "outputId": "2f391672-3090-4477-9aed-53b8cbd8fb87"
      },
      "execution_count": null,
      "outputs": [
        {
          "output_type": "display_data",
          "data": {
            "text/plain": [
              "<Figure size 432x288 with 2 Axes>"
            ],
            "image/png": "[encoded data removed]"
          },
          "metadata": {
            "needs_background": "light"
          }
        }
      ]
    },
    {
      "cell_type": "markdown",
      "source": [
        "* La distancia entre ejes(wheelbase) tiene una alta correlación positiva\n",
        "con la longitud del vehículo, el ancho del vehículo y el  peso de un automóvil sin ocupantes ni equipaje(curbweight)\n",
        "* La longitud del vehículo tiene  alta correlación positiva con el  peso de un automóvil sin ocupantes ni equipaje.\n",
        "* La longitud del vehículo tiene una correlación negativa con  kilometraje en carretera\n",
        "* El ancho del vehículo tiene una alta correlación positiva con el peso en orden de marcha y el tamaño del motor\n",
        "* El tamaño del motor tiene una alta correlación positiva con la potencia\n",
        "* El  peso de un automóvil sin ocupantes ni equipaje tiene una alta correlación positiva con el tamaño del motor y la potencia,\n",
        "* Hay correlación negativa entre kilometraje en carretera Y el  peso de un automóvil sin ocupantes\n",
        "* Caballos de fuerza tiene una correlación negativa con kilometraje en  ciudad y carretera\n",
        "* Kilometraje en  ciudad y carretera están altamente correlacionados\n"
      ],
      "metadata": {
        "id": "QWL43iCrNUiG"
      }
    },
    {
      "cell_type": "markdown",
      "source": [
        "# 3. Limpieza y transformación de datos"
      ],
      "metadata": {
        "id": "IjM8gDmsogI8"
      }
    },
    {
      "cell_type": "markdown",
      "source": [
        "## Tratamiento de datos atípicos"
      ],
      "metadata": {
        "id": "yJIZSTkeNQE0"
      }
    },
    {
      "cell_type": "markdown",
      "source": [
        "Se corre un codigo que permite un tratamiento de los datos atipicos, esta parte en concreto no es de mi autoria, tomado de AREZOO DAHESH\n"
      ],
      "metadata": {
        "id": "VMTU5siw3N8C"
      }
    },
    {
      "cell_type": "code",
      "source": [
        "from sklearn.preprocessing import LabelEncoder\n",
        "from sklearn.preprocessing import MinMaxScaler\n",
        "# -------------------------------------------\n",
        "\n",
        "import statsmodels.api as sm\n",
        "from statsmodels.stats.outliers_influence import variance_inflation_factor\n",
        "# -------------------------------------------\n",
        "\n",
        "from sklearn.model_selection import cross_val_score\n",
        "from sklearn.model_selection import GridSearchCV, RandomizedSearchCV\n",
        "from sklearn.model_selection import KFold\n",
        "from sklearn.model_selection import train_test_split\n",
        "# -------------------------------------------"
      ],
      "metadata": {
        "id": "GMOT_1ZQMxa4",
        "colab": {
          "base_uri": "https://localhost:8080/"
        },
        "outputId": "7b675aaa-eba4-4fc2-80bf-ea52f312f693"
      },
      "execution_count": null,
      "outputs": [
        {
          "output_type": "stream",
          "name": "stderr",
          "text": [
            "/usr/local/lib/python3.7/dist-packages/statsmodels/tools/_testing.py:19: FutureWarning: pandas.util.testing is deprecated. Use the functions in the public API at pandas.testing instead.\n",
            "  import pandas.util.testing as tm\n"
          ]
        }
      ]
    },
    {
      "cell_type": "code",
      "source": [
        "def outlier_detect(df, col):\n",
        "    q1_col = Q1[col]\n",
        "    iqr_col = IQR[col]\n",
        "    q3_col = Q3[col]\n",
        "    return df[((df[col] < (q1_col - 1.5 * iqr_col)) |(df[col] > (q3_col + 1.5 * iqr_col)))]\n",
        "\n",
        "# -------------------------------------------\n",
        "def lower_outlier(df, col):\n",
        "    q1_col = Q1[col]\n",
        "    iqr_col = IQR[col]\n",
        "    q3_col = Q3[col]\n",
        "    lower = df[(df[col] < (q1_col - 1.5 * iqr_col))]\n",
        "    return lower\n",
        "\n",
        "# -------------------------------------------\n",
        "def upper_outlier(df, col):\n",
        "    q1_col = Q1[col]\n",
        "    iqr_col = IQR[col]\n",
        "    q3_col = Q3[col]\n",
        "    upper = df[(df[col] > (q3_col + 1.5 * iqr_col))]\n",
        "    return upper\n",
        "\n",
        "# -------------------------------------------\n",
        "def replace_upper(df, col):\n",
        "    q1_col = Q1[col]\n",
        "    iqr_col = IQR[col]\n",
        "    q3_col = Q3[col]\n",
        "    tmp = 9999999\n",
        "    upper = q3_col + 1.5 * iqr_col\n",
        "    df[col] = df[col].where(lambda x: (x < (upper)), tmp)\n",
        "    df[col] = df[col].replace(tmp, upper)\n",
        "    print('outlire replace with upper bound - {}' .format(col))\n",
        "\n",
        "# -------------------------------------------\n",
        "def replace_lower(df, col):\n",
        "    q1_col = Q1[col]\n",
        "    iqr_col = IQR[col]\n",
        "    q3_col = Q3[col]\n",
        "    tmp = 1111111\n",
        "    lower = q1_col - 1.5 * iqr_col\n",
        "    df[col] = df[col].where(lambda x: (x > (lower)), tmp)\n",
        "    df[col] = df[col].replace(tmp, lower)\n",
        "    print('outlire replace with lower bound - {}' .format(col))\n",
        "\n",
        "# -------------------------------------------\n",
        "CV = KFold(n_splits=10, random_state=0, shuffle=True)\n",
        "\n",
        "def GridSearch_Tune(model, Data, X, y, params):\n",
        "\n",
        "    clf = GridSearchCV(model, params, scoring ='r2', cv = CV, n_jobs=-1)\n",
        "    clf.fit(X, y)\n",
        "\n",
        "    print(\"best score is :\" , clf.best_score_)\n",
        "    print(\"best estimator is :\" , clf.best_estimator_)\n",
        "    print(\"best Params is :\" , clf.best_params_)\n",
        "\n",
        "    return (clf.best_score_)\n",
        "\n",
        "# -------------------------------------------\n",
        "def checkVIF(X):\n",
        "    vif = pd.DataFrame()\n",
        "    vif['Features'] = X.columns\n",
        "    vif['VIF'] = [variance_inflation_factor(X.values, i) for i in range(X.shape[1])]\n",
        "    vif['VIF'] = round(vif['VIF'], 2)\n",
        "    vif = vif.sort_values(by = \"VIF\", ascending = False)\n",
        "    return(vif)\n",
        "\n",
        "# -------------------------------------------\n",
        "def build_model(x,y):\n",
        "    x = sm.add_constant(x)\n",
        "    lm = sm.OLS(y,x).fit()\n",
        "    print(lm.summary())\n",
        "    return x, lm"
      ],
      "metadata": {
        "id": "TYOBecL3MmR0"
      },
      "execution_count": null,
      "outputs": []
    },
    {
      "cell_type": "code",
      "source": [
        "import scipy\n",
        "from scipy.stats import shapiro\n",
        "for i in range(len(numericas_ )):\n",
        "    stat,p = shapiro(df[numericas_ [i]])\n",
        "    print(numericas_ [i])\n",
        "    print('P_value=%.3f' % (p))\n",
        "    print(\"*******************************\")# se trabaja con el test de shapiro  donde la hipotesis nula es que los datos siguen\n",
        "    #una distribución normal"
      ],
      "metadata": {
        "colab": {
          "base_uri": "https://localhost:8080/"
        },
        "id": "QfgKvzCAK55Z",
        "outputId": "c0f1a6d8-9230-44af-d146-e61b0793cecf"
      },
      "execution_count": null,
      "outputs": [
        {
          "output_type": "stream",
          "name": "stdout",
          "text": [
            "wheelbase\n",
            "P_value=0.000\n",
            "*******************************\n",
            "carlength\n",
            "P_value=0.010\n",
            "*******************************\n",
            "carwidth\n",
            "P_value=0.000\n",
            "*******************************\n",
            "carheight\n",
            "P_value=0.022\n",
            "*******************************\n",
            "curbweight\n",
            "P_value=0.000\n",
            "*******************************\n",
            "enginesize\n",
            "P_value=0.000\n",
            "*******************************\n",
            "boreratio\n",
            "P_value=0.000\n",
            "*******************************\n",
            "stroke\n",
            "P_value=0.000\n",
            "*******************************\n",
            "compressionratio\n",
            "P_value=0.000\n",
            "*******************************\n",
            "horsepower\n",
            "P_value=0.000\n",
            "*******************************\n",
            "peakrpm\n",
            "P_value=0.000\n",
            "*******************************\n",
            "citympg\n",
            "P_value=0.000\n",
            "*******************************\n",
            "highwaympg\n",
            "P_value=0.001\n",
            "*******************************\n",
            "price\n",
            "P_value=0.000\n",
            "*******************************\n"
          ]
        }
      ]
    },
    {
      "cell_type": "code",
      "source": [
        "Q1 = df.quantile(0.25)\n",
        "Q3 = df.quantile(0.75)\n",
        "IQR = Q3 - Q1"
      ],
      "metadata": {
        "id": "UNggDbH7NKgM"
      },
      "execution_count": null,
      "outputs": []
    },
    {
      "cell_type": "code",
      "source": [
        "for i in range(len(numericas_)):\n",
        "    print(\"IQR => {}: {}\".format(numericas_[i],(outlier_detect(df[numericas_],numericas_[i]).shape[0])))"
      ],
      "metadata": {
        "colab": {
          "base_uri": "https://localhost:8080/"
        },
        "id": "xRW978s8MADg",
        "outputId": "8bb01184-5113-4933-84f0-e2e0a4007030"
      },
      "execution_count": null,
      "outputs": [
        {
          "output_type": "stream",
          "name": "stdout",
          "text": [
            "IQR => wheelbase: 3\n",
            "IQR => carlength: 1\n",
            "IQR => carwidth: 8\n",
            "IQR => carheight: 0\n",
            "IQR => curbweight: 0\n",
            "IQR => enginesize: 10\n",
            "IQR => boreratio: 0\n",
            "IQR => stroke: 20\n",
            "IQR => compressionratio: 28\n",
            "IQR => horsepower: 6\n",
            "IQR => peakrpm: 2\n",
            "IQR => citympg: 2\n",
            "IQR => highwaympg: 3\n",
            "IQR => price: 15\n"
          ]
        }
      ]
    },
    {
      "cell_type": "code",
      "source": [
        "outlier = []\n",
        "for i in range(len(numericas_)):\n",
        "    if outlier_detect(df[numericas_],numericas_[i]).shape[0] !=0:\n",
        "        outlier.append(numericas_[i])\n",
        "outlier"
      ],
      "metadata": {
        "colab": {
          "base_uri": "https://localhost:8080/"
        },
        "id": "kRSRdZaCNa_E",
        "outputId": "4a699eb8-ac8f-4e3a-e5c2-37cb5025058c"
      },
      "execution_count": null,
      "outputs": [
        {
          "output_type": "execute_result",
          "data": {
            "text/plain": [
              "['wheelbase',\n",
              " 'carlength',\n",
              " 'carwidth',\n",
              " 'enginesize',\n",
              " 'stroke',\n",
              " 'compressionratio',\n",
              " 'horsepower',\n",
              " 'peakrpm',\n",
              " 'citympg',\n",
              " 'highwaympg',\n",
              " 'price']"
            ]
          },
          "metadata": {},
          "execution_count": 19
        }
      ]
    },
    {
      "cell_type": "code",
      "source": [
        "for i in range(len(outlier)):\n",
        "    replace_upper(df, outlier[i])\n",
        "\n",
        "print(\"\\n*******************************************\\n\")\n",
        "for i in range(len(outlier)):\n",
        "    replace_lower(df, outlier[i])"
      ],
      "metadata": {
        "colab": {
          "base_uri": "https://localhost:8080/"
        },
        "id": "FcuAhpapNoan",
        "outputId": "e0bb3b87-ce24-4689-ad26-7b8adbe7363e"
      },
      "execution_count": null,
      "outputs": [
        {
          "output_type": "stream",
          "name": "stdout",
          "text": [
            "outlire replace with upper bound - wheelbase\n",
            "outlire replace with upper bound - carlength\n",
            "outlire replace with upper bound - carwidth\n",
            "outlire replace with upper bound - enginesize\n",
            "outlire replace with upper bound - stroke\n",
            "outlire replace with upper bound - compressionratio\n",
            "outlire replace with upper bound - horsepower\n",
            "outlire replace with upper bound - peakrpm\n",
            "outlire replace with upper bound - citympg\n",
            "outlire replace with upper bound - highwaympg\n",
            "outlire replace with upper bound - price\n",
            "\n",
            "*******************************************\n",
            "\n",
            "outlire replace with lower bound - wheelbase\n",
            "outlire replace with lower bound - carlength\n",
            "outlire replace with lower bound - carwidth\n",
            "outlire replace with lower bound - enginesize\n",
            "outlire replace with lower bound - stroke\n",
            "outlire replace with lower bound - compressionratio\n",
            "outlire replace with lower bound - horsepower\n",
            "outlire replace with lower bound - peakrpm\n",
            "outlire replace with lower bound - citympg\n",
            "outlire replace with lower bound - highwaympg\n",
            "outlire replace with lower bound - price\n"
          ]
        }
      ]
    },
    {
      "cell_type": "code",
      "source": [
        "for i in range(len(numericas_)):\n",
        "    print(\"IQR => {}: {}\".format(numericas_[i],(outlier_detect(df[numericas_],numericas_[i]).shape[0])))"
      ],
      "metadata": {
        "colab": {
          "base_uri": "https://localhost:8080/"
        },
        "id": "xDrbETa8NuuD",
        "outputId": "4c3b9b90-020c-4b84-f6a7-19033428eaa6"
      },
      "execution_count": null,
      "outputs": [
        {
          "output_type": "stream",
          "name": "stdout",
          "text": [
            "IQR => wheelbase: 0\n",
            "IQR => carlength: 0\n",
            "IQR => carwidth: 0\n",
            "IQR => carheight: 0\n",
            "IQR => curbweight: 0\n",
            "IQR => enginesize: 0\n",
            "IQR => boreratio: 0\n",
            "IQR => stroke: 0\n",
            "IQR => compressionratio: 0\n",
            "IQR => horsepower: 0\n",
            "IQR => peakrpm: 0\n",
            "IQR => citympg: 0\n",
            "IQR => highwaympg: 0\n",
            "IQR => price: 0\n"
          ]
        }
      ]
    },
    {
      "cell_type": "markdown",
      "source": [
        "Las variables categoricas se transforman a variables dummy"
      ],
      "metadata": {
        "id": "iWI79WT1PvP4"
      }
    },
    {
      "cell_type": "code",
      "source": [
        "df_dummy = pd.get_dummies(df, prefix=categoricas_, columns=categoricas_, drop_first=True)\n",
        "df_dummy.head()"
      ],
      "metadata": {
        "colab": {
          "base_uri": "https://localhost:8080/",
          "height": 300
        },
        "id": "sL3-9CXfN5AM",
        "outputId": "b65e2544-e647-42d9-e559-fe11c61e8b18"
      },
      "execution_count": null,
      "outputs": [
        {
          "output_type": "execute_result",
          "data": {
            "text/plain": [
              "   wheelbase  carlength  carwidth  carheight  curbweight  enginesize  \\\n",
              "0       88.6      168.8      64.1       48.8        2548         130   \n",
              "1       88.6      168.8      64.1       48.8        2548         130   \n",
              "2       94.5      171.2      65.5       52.4        2823         152   \n",
              "3       99.8      176.6      66.2       54.3        2337         109   \n",
              "4       99.4      176.6      66.4       54.3        2824         136   \n",
              "\n",
              "   boreratio  stroke  compressionratio  horsepower  ...  cylindernumber_three  \\\n",
              "0       3.47    2.68               9.0         111  ...                     0   \n",
              "1       3.47    2.68               9.0         111  ...                     0   \n",
              "2       2.68    3.47               9.0         154  ...                     0   \n",
              "3       3.19    3.40              10.0         102  ...                     0   \n",
              "4       3.19    3.40               8.0         115  ...                     0   \n",
              "\n",
              "   cylindernumber_twelve  cylindernumber_two  fuelsystem_2bbl  \\\n",
              "0                      0                   0                0   \n",
              "1                      0                   0                0   \n",
              "2                      0                   0                0   \n",
              "3                      0                   0                0   \n",
              "4                      0                   0                0   \n",
              "\n",
              "   fuelsystem_4bbl  fuelsystem_idi  fuelsystem_mfi  fuelsystem_mpfi  \\\n",
              "0                0               0               0                1   \n",
              "1                0               0               0                1   \n",
              "2                0               0               0                1   \n",
              "3                0               0               0                1   \n",
              "4                0               0               0                1   \n",
              "\n",
              "   fuelsystem_spdi  fuelsystem_spfi  \n",
              "0                0                0  \n",
              "1                0                0  \n",
              "2                0                0  \n",
              "3                0                0  \n",
              "4                0                0  \n",
              "\n",
              "[5 rows x 69 columns]"
            ],
            "text/html": [
              "\n",
              "  <div id=\"df-9971aecc-6c4b-4929-b808-b5c4bc04c940\">\n",
              "    <div class=\"colab-df-container\">\n",
              "      <div>\n",
              "<style scoped>\n",
              "    .dataframe tbody tr th:only-of-type {\n",
              "        vertical-align: middle;\n",
              "    }\n",
              "\n",
              "    .dataframe tbody tr th {\n",
              "        vertical-align: top;\n",
              "    }\n",
              "\n",
              "    .dataframe thead th {\n",
              "        text-align: right;\n",
              "    }\n",
              "</style>\n",
              "<table border=\"1\" class=\"dataframe\">\n",
              "  <thead>\n",
              "    <tr style=\"text-align: right;\">\n",
              "      <th></th>\n",
              "      <th>wheelbase</th>\n",
              "      <th>carlength</th>\n",
              "      <th>carwidth</th>\n",
              "      <th>carheight</th>\n",
              "      <th>curbweight</th>\n",
              "      <th>enginesize</th>\n",
              "      <th>boreratio</th>\n",
              "      <th>stroke</th>\n",
              "      <th>compressionratio</th>\n",
              "      <th>horsepower</th>\n",
              "      <th>...</th>\n",
              "      <th>cylindernumber_three</th>\n",
              "      <th>cylindernumber_twelve</th>\n",
              "      <th>cylindernumber_two</th>\n",
              "      <th>fuelsystem_2bbl</th>\n",
              "      <th>fuelsystem_4bbl</th>\n",
              "      <th>fuelsystem_idi</th>\n",
              "      <th>fuelsystem_mfi</th>\n",
              "      <th>fuelsystem_mpfi</th>\n",
              "      <th>fuelsystem_spdi</th>\n",
              "      <th>fuelsystem_spfi</th>\n",
              "    </tr>\n",
              "  </thead>\n",
              "  <tbody>\n",
              "    <tr>\n",
              "      <th>0</th>\n",
              "      <td>88.6</td>\n",
              "      <td>168.8</td>\n",
              "      <td>64.1</td>\n",
              "      <td>48.8</td>\n",
              "      <td>2548</td>\n",
              "      <td>130</td>\n",
              "      <td>3.47</td>\n",
              "      <td>2.68</td>\n",
              "      <td>9.0</td>\n",
              "      <td>111</td>\n",
              "      <td>...</td>\n",
              "      <td>0</td>\n",
              "      <td>0</td>\n",
              "      <td>0</td>\n",
              "      <td>0</td>\n",
              "      <td>0</td>\n",
              "      <td>0</td>\n",
              "      <td>0</td>\n",
              "      <td>1</td>\n",
              "      <td>0</td>\n",
              "      <td>0</td>\n",
              "    </tr>\n",
              "    <tr>\n",
              "      <th>1</th>\n",
              "      <td>88.6</td>\n",
              "      <td>168.8</td>\n",
              "      <td>64.1</td>\n",
              "      <td>48.8</td>\n",
              "      <td>2548</td>\n",
              "      <td>130</td>\n",
              "      <td>3.47</td>\n",
              "      <td>2.68</td>\n",
              "      <td>9.0</td>\n",
              "      <td>111</td>\n",
              "      <td>...</td>\n",
              "      <td>0</td>\n",
              "      <td>0</td>\n",
              "      <td>0</td>\n",
              "      <td>0</td>\n",
              "      <td>0</td>\n",
              "      <td>0</td>\n",
              "      <td>0</td>\n",
              "      <td>1</td>\n",
              "      <td>0</td>\n",
              "      <td>0</td>\n",
              "    </tr>\n",
              "    <tr>\n",
              "      <th>2</th>\n",
              "      <td>94.5</td>\n",
              "      <td>171.2</td>\n",
              "      <td>65.5</td>\n",
              "      <td>52.4</td>\n",
              "      <td>2823</td>\n",
              "      <td>152</td>\n",
              "      <td>2.68</td>\n",
              "      <td>3.47</td>\n",
              "      <td>9.0</td>\n",
              "      <td>154</td>\n",
              "      <td>...</td>\n",
              "      <td>0</td>\n",
              "      <td>0</td>\n",
              "      <td>0</td>\n",
              "      <td>0</td>\n",
              "      <td>0</td>\n",
              "      <td>0</td>\n",
              "      <td>0</td>\n",
              "      <td>1</td>\n",
              "      <td>0</td>\n",
              "      <td>0</td>\n",
              "    </tr>\n",
              "    <tr>\n",
              "      <th>3</th>\n",
              "      <td>99.8</td>\n",
              "      <td>176.6</td>\n",
              "      <td>66.2</td>\n",
              "      <td>54.3</td>\n",
              "      <td>2337</td>\n",
              "      <td>109</td>\n",
              "      <td>3.19</td>\n",
              "      <td>3.40</td>\n",
              "      <td>10.0</td>\n",
              "      <td>102</td>\n",
              "      <td>...</td>\n",
              "      <td>0</td>\n",
              "      <td>0</td>\n",
              "      <td>0</td>\n",
              "      <td>0</td>\n",
              "      <td>0</td>\n",
              "      <td>0</td>\n",
              "      <td>0</td>\n",
              "      <td>1</td>\n",
              "      <td>0</td>\n",
              "      <td>0</td>\n",
              "    </tr>\n",
              "    <tr>\n",
              "      <th>4</th>\n",
              "      <td>99.4</td>\n",
              "      <td>176.6</td>\n",
              "      <td>66.4</td>\n",
              "      <td>54.3</td>\n",
              "      <td>2824</td>\n",
              "      <td>136</td>\n",
              "      <td>3.19</td>\n",
              "      <td>3.40</td>\n",
              "      <td>8.0</td>\n",
              "      <td>115</td>\n",
              "      <td>...</td>\n",
              "      <td>0</td>\n",
              "      <td>0</td>\n",
              "      <td>0</td>\n",
              "      <td>0</td>\n",
              "      <td>0</td>\n",
              "      <td>0</td>\n",
              "      <td>0</td>\n",
              "      <td>1</td>\n",
              "      <td>0</td>\n",
              "      <td>0</td>\n",
              "    </tr>\n",
              "  </tbody>\n",
              "</table>\n",
              "<p>5 rows × 69 columns</p>\n",
              "</div>\n",
              "      <button class=\"colab-df-convert\" onclick=\"convertToInteractive('df-9971aecc-6c4b-4929-b808-b5c4bc04c940')\"\n",
              "              title=\"Convert this dataframe to an interactive table.\"\n",
              "              style=\"display:none;\">\n",
              "        \n",
              "  <svg xmlns=\"http://www.w3.org/2000/svg\" height=\"24px\"viewBox=\"0 0 24 24\"\n",
              "       width=\"24px\">\n",
              "    <path d=\"M0 0h24v24H0V0z\" fill=\"none\"/>\n",
              "    <path d=\"M18.56 5.44l.94 2.06.94-2.06 2.06-.94-2.06-.94-.94-2.06-.94 2.06-2.06.94zm-11 1L8.5 8.5l.94-2.06 2.06-.94-2.06-.94L8.5 2.5l-.94 2.06-2.06.94zm10 10l.94 2.06.94-2.06 2.06-.94-2.06-.94-.94-2.06-.94 2.06-2.06.94z\"/><path d=\"M17.41 7.96l-1.37-1.37c-.4-.4-.92-.59-1.43-.59-.52 0-1.04.2-1.43.59L10.3 9.45l-7.72 7.72c-.78.78-.78 2.05 0 2.83L4 21.41c.39.39.9.59 1.41.59.51 0 1.02-.2 1.41-.59l7.78-7.78 2.81-2.81c.8-.78.8-2.07 0-2.86zM5.41 20L4 18.59l7.72-7.72 1.47 1.35L5.41 20z\"/>\n",
              "  </svg>\n",
              "      </button>\n",
              "      \n",
              "  <style>\n",
              "    .colab-df-container {\n",
              "      display:flex;\n",
              "      flex-wrap:wrap;\n",
              "      gap: 12px;\n",
              "    }\n",
              "\n",
              "    .colab-df-convert {\n",
              "      background-color: #E8F0FE;\n",
              "      border: none;\n",
              "      border-radius: 50%;\n",
              "      cursor: pointer;\n",
              "      display: none;\n",
              "      fill: #1967D2;\n",
              "      height: 32px;\n",
              "      padding: 0 0 0 0;\n",
              "      width: 32px;\n",
              "    }\n",
              "\n",
              "    .colab-df-convert:hover {\n",
              "      background-color: #E2EBFA;\n",
              "      box-shadow: 0px 1px 2px rgba(60, 64, 67, 0.3), 0px 1px 3px 1px rgba(60, 64, 67, 0.15);\n",
              "      fill: #174EA6;\n",
              "    }\n",
              "\n",
              "    [theme=dark] .colab-df-convert {\n",
              "      background-color: #3B4455;\n",
              "      fill: #D2E3FC;\n",
              "    }\n",
              "\n",
              "    [theme=dark] .colab-df-convert:hover {\n",
              "      background-color: #434B5C;\n",
              "      box-shadow: 0px 1px 3px 1px rgba(0, 0, 0, 0.15);\n",
              "      filter: drop-shadow(0px 1px 2px rgba(0, 0, 0, 0.3));\n",
              "      fill: #FFFFFF;\n",
              "    }\n",
              "  </style>\n",
              "\n",
              "      <script>\n",
              "        const buttonEl =\n",
              "          document.querySelector('#df-9971aecc-6c4b-4929-b808-b5c4bc04c940 button.colab-df-convert');\n",
              "        buttonEl.style.display =\n",
              "          google.colab.kernel.accessAllowed ? 'block' : 'none';\n",
              "\n",
              "        async function convertToInteractive(key) {\n",
              "          const element = document.querySelector('#df-9971aecc-6c4b-4929-b808-b5c4bc04c940');\n",
              "          const dataTable =\n",
              "            await google.colab.kernel.invokeFunction('convertToInteractive',\n",
              "                                                     [key], {});\n",
              "          if (!dataTable) return;\n",
              "\n",
              "          const docLinkHtml = 'Like what you see? Visit the ' +\n",
              "            '<a target=\"_blank\" href=https://colab.research.google.com/notebooks/data_table.ipynb>data table notebook</a>'\n",
              "            + ' to learn more about interactive tables.';\n",
              "          element.innerHTML = '';\n",
              "          dataTable['output_type'] = 'display_data';\n",
              "          await google.colab.output.renderOutput(dataTable, element);\n",
              "          const docLink = document.createElement('div');\n",
              "          docLink.innerHTML = docLinkHtml;\n",
              "          element.appendChild(docLink);\n",
              "        }\n",
              "      </script>\n",
              "    </div>\n",
              "  </div>\n",
              "  "
            ]
          },
          "metadata": {},
          "execution_count": 22
        }
      ]
    },
    {
      "cell_type": "markdown",
      "source": [
        "## Variables duplicadas"
      ],
      "metadata": {
        "id": "5KZzUP6OQcsl"
      }
    },
    {
      "cell_type": "markdown",
      "source": [
        "Se revisa cuantas variables duplicadas existen, se encuentran 2"
      ],
      "metadata": {
        "id": "LSk8cSyXQt8k"
      }
    },
    {
      "cell_type": "code",
      "source": [
        "df_dummy.loc[df.duplicated()].shape"
      ],
      "metadata": {
        "colab": {
          "base_uri": "https://localhost:8080/"
        },
        "id": "KeTHcViqQq3S",
        "outputId": "817a5539-a81f-400b-bde9-4c656ac55472"
      },
      "execution_count": null,
      "outputs": [
        {
          "output_type": "execute_result",
          "data": {
            "text/plain": [
              "(2, 69)"
            ]
          },
          "metadata": {},
          "execution_count": 23
        }
      ]
    },
    {
      "cell_type": "markdown",
      "source": [
        "se procede a eliminar las variables duplicadas"
      ],
      "metadata": {
        "id": "BR-G0-VnQ2Lk"
      }
    },
    {
      "cell_type": "code",
      "source": [
        "df_dummy = df_dummy.drop_duplicates()\n",
        "df_dummy.shape"
      ],
      "metadata": {
        "colab": {
          "base_uri": "https://localhost:8080/"
        },
        "id": "C85eVoeAQiam",
        "outputId": "3bd3f242-2cb3-46dd-d5e6-7fe8e2ba675b"
      },
      "execution_count": null,
      "outputs": [
        {
          "output_type": "execute_result",
          "data": {
            "text/plain": [
              "(203, 69)"
            ]
          },
          "metadata": {},
          "execution_count": 24
        }
      ]
    },
    {
      "cell_type": "markdown",
      "source": [
        "## Normalizar"
      ],
      "metadata": {
        "id": "Yr8AgdRLRB3n"
      }
    },
    {
      "cell_type": "code",
      "source": [
        "df = (df_dummy-df_dummy.min()) / (df_dummy.max()-df_dummy.min())\n",
        "df"
      ],
      "metadata": {
        "colab": {
          "base_uri": "https://localhost:8080/",
          "height": 488
        },
        "id": "XZFWUe08RRK9",
        "outputId": "38b25207-7fbb-4445-bd32-290348a2b88c"
      },
      "execution_count": null,
      "outputs": [
        {
          "output_type": "execute_result",
          "data": {
            "text/plain": [
              "     wheelbase  carlength  carwidth  carheight  curbweight  enginesize  \\\n",
              "0     0.072333   0.413433  0.351852   0.083333    0.411171    0.472603   \n",
              "1     0.072333   0.413433  0.351852   0.083333    0.411171    0.472603   \n",
              "2     0.285714   0.449254  0.481481   0.383333    0.517843    0.623288   \n",
              "3     0.477396   0.529851  0.546296   0.541667    0.329325    0.328767   \n",
              "4     0.462929   0.529851  0.564815   0.541667    0.518231    0.513699   \n",
              "..         ...        ...       ...        ...         ...         ...   \n",
              "200   0.813743   0.711940  0.796296   0.641667    0.567882    0.547945   \n",
              "201   0.813743   0.711940  0.787037   0.641667    0.605508    0.547945   \n",
              "202   0.813743   0.711940  0.796296   0.641667    0.591156    0.767123   \n",
              "203   0.813743   0.711940  0.796296   0.641667    0.670675    0.575342   \n",
              "204   0.813743   0.711940  0.796296   0.641667    0.610551    0.547945   \n",
              "\n",
              "     boreratio    stroke  compressionratio  horsepower  ...  \\\n",
              "0     0.664286  0.016667           0.50000    0.459854  ...   \n",
              "1     0.664286  0.016667           0.50000    0.459854  ...   \n",
              "2     0.100000  0.675000           0.50000    0.773723  ...   \n",
              "3     0.464286  0.616667           0.81250    0.394161  ...   \n",
              "4     0.464286  0.616667           0.18750    0.489051  ...   \n",
              "..         ...       ...               ...         ...  ...   \n",
              "200   0.885714  0.408333           0.65625    0.481752  ...   \n",
              "201   0.885714  0.408333           0.40625    0.817518  ...   \n",
              "202   0.742857  0.175000           0.43750    0.627737  ...   \n",
              "203   0.335714  0.616667           1.00000    0.423358  ...   \n",
              "204   0.885714  0.408333           0.65625    0.481752  ...   \n",
              "\n",
              "     cylindernumber_three  cylindernumber_twelve  cylindernumber_two  \\\n",
              "0                     0.0                    0.0                 0.0   \n",
              "1                     0.0                    0.0                 0.0   \n",
              "2                     0.0                    0.0                 0.0   \n",
              "3                     0.0                    0.0                 0.0   \n",
              "4                     0.0                    0.0                 0.0   \n",
              "..                    ...                    ...                 ...   \n",
              "200                   0.0                    0.0                 0.0   \n",
              "201                   0.0                    0.0                 0.0   \n",
              "202                   0.0                    0.0                 0.0   \n",
              "203                   0.0                    0.0                 0.0   \n",
              "204                   0.0                    0.0                 0.0   \n",
              "\n",
              "     fuelsystem_2bbl  fuelsystem_4bbl  fuelsystem_idi  fuelsystem_mfi  \\\n",
              "0                0.0              0.0             0.0             0.0   \n",
              "1                0.0              0.0             0.0             0.0   \n",
              "2                0.0              0.0             0.0             0.0   \n",
              "3                0.0              0.0             0.0             0.0   \n",
              "4                0.0              0.0             0.0             0.0   \n",
              "..               ...              ...             ...             ...   \n",
              "200              0.0              0.0             0.0             0.0   \n",
              "201              0.0              0.0             0.0             0.0   \n",
              "202              0.0              0.0             0.0             0.0   \n",
              "203              0.0              0.0             1.0             0.0   \n",
              "204              0.0              0.0             0.0             0.0   \n",
              "\n",
              "     fuelsystem_mpfi  fuelsystem_spdi  fuelsystem_spfi  \n",
              "0                1.0              0.0              0.0  \n",
              "1                1.0              0.0              0.0  \n",
              "2                1.0              0.0              0.0  \n",
              "3                1.0              0.0              0.0  \n",
              "4                1.0              0.0              0.0  \n",
              "..               ...              ...              ...  \n",
              "200              1.0              0.0              0.0  \n",
              "201              1.0              0.0              0.0  \n",
              "202              1.0              0.0              0.0  \n",
              "203              0.0              0.0              0.0  \n",
              "204              1.0              0.0              0.0  \n",
              "\n",
              "[203 rows x 69 columns]"
            ],
            "text/html": [
              "\n",
              "  <div id=\"df-77e85853-ddb2-4f3a-8380-c484ba23ba5c\">\n",
              "    <div class=\"colab-df-container\">\n",
              "      <div>\n",
              "<style scoped>\n",
              "    .dataframe tbody tr th:only-of-type {\n",
              "        vertical-align: middle;\n",
              "    }\n",
              "\n",
              "    .dataframe tbody tr th {\n",
              "        vertical-align: top;\n",
              "    }\n",
              "\n",
              "    .dataframe thead th {\n",
              "        text-align: right;\n",
              "    }\n",
              "</style>\n",
              "<table border=\"1\" class=\"dataframe\">\n",
              "  <thead>\n",
              "    <tr style=\"text-align: right;\">\n",
              "      <th></th>\n",
              "      <th>wheelbase</th>\n",
              "      <th>carlength</th>\n",
              "      <th>carwidth</th>\n",
              "      <th>carheight</th>\n",
              "      <th>curbweight</th>\n",
              "      <th>enginesize</th>\n",
              "      <th>boreratio</th>\n",
              "      <th>stroke</th>\n",
              "      <th>compressionratio</th>\n",
              "      <th>horsepower</th>\n",
              "      <th>...</th>\n",
              "      <th>cylindernumber_three</th>\n",
              "      <th>cylindernumber_twelve</th>\n",
              "      <th>cylindernumber_two</th>\n",
              "      <th>fuelsystem_2bbl</th>\n",
              "      <th>fuelsystem_4bbl</th>\n",
              "      <th>fuelsystem_idi</th>\n",
              "      <th>fuelsystem_mfi</th>\n",
              "      <th>fuelsystem_mpfi</th>\n",
              "      <th>fuelsystem_spdi</th>\n",
              "      <th>fuelsystem_spfi</th>\n",
              "    </tr>\n",
              "  </thead>\n",
              "  <tbody>\n",
              "    <tr>\n",
              "      <th>0</th>\n",
              "      <td>0.072333</td>\n",
              "      <td>0.413433</td>\n",
              "      <td>0.351852</td>\n",
              "      <td>0.083333</td>\n",
              "      <td>0.411171</td>\n",
              "      <td>0.472603</td>\n",
              "      <td>0.664286</td>\n",
              "      <td>0.016667</td>\n",
              "      <td>0.50000</td>\n",
              "      <td>0.459854</td>\n",
              "      <td>...</td>\n",
              "      <td>0.0</td>\n",
              "      <td>0.0</td>\n",
              "      <td>0.0</td>\n",
              "      <td>0.0</td>\n",
              "      <td>0.0</td>\n",
              "      <td>0.0</td>\n",
              "      <td>0.0</td>\n",
              "      <td>1.0</td>\n",
              "      <td>0.0</td>\n",
              "      <td>0.0</td>\n",
              "    </tr>\n",
              "    <tr>\n",
              "      <th>1</th>\n",
              "      <td>0.072333</td>\n",
              "      <td>0.413433</td>\n",
              "      <td>0.351852</td>\n",
              "      <td>0.083333</td>\n",
              "      <td>0.411171</td>\n",
              "      <td>0.472603</td>\n",
              "      <td>0.664286</td>\n",
              "      <td>0.016667</td>\n",
              "      <td>0.50000</td>\n",
              "      <td>0.459854</td>\n",
              "      <td>...</td>\n",
              "      <td>0.0</td>\n",
              "      <td>0.0</td>\n",
              "      <td>0.0</td>\n",
              "      <td>0.0</td>\n",
              "      <td>0.0</td>\n",
              "      <td>0.0</td>\n",
              "      <td>0.0</td>\n",
              "      <td>1.0</td>\n",
              "      <td>0.0</td>\n",
              "      <td>0.0</td>\n",
              "    </tr>\n",
              "    <tr>\n",
              "      <th>2</th>\n",
              "      <td>0.285714</td>\n",
              "      <td>0.449254</td>\n",
              "      <td>0.481481</td>\n",
              "      <td>0.383333</td>\n",
              "      <td>0.517843</td>\n",
              "      <td>0.623288</td>\n",
              "      <td>0.100000</td>\n",
              "      <td>0.675000</td>\n",
              "      <td>0.50000</td>\n",
              "      <td>0.773723</td>\n",
              "      <td>...</td>\n",
              "      <td>0.0</td>\n",
              "      <td>0.0</td>\n",
              "      <td>0.0</td>\n",
              "      <td>0.0</td>\n",
              "      <td>0.0</td>\n",
              "      <td>0.0</td>\n",
              "      <td>0.0</td>\n",
              "      <td>1.0</td>\n",
              "      <td>0.0</td>\n",
              "      <td>0.0</td>\n",
              "    </tr>\n",
              "    <tr>\n",
              "      <th>3</th>\n",
              "      <td>0.477396</td>\n",
              "      <td>0.529851</td>\n",
              "      <td>0.546296</td>\n",
              "      <td>0.541667</td>\n",
              "      <td>0.329325</td>\n",
              "      <td>0.328767</td>\n",
              "      <td>0.464286</td>\n",
              "      <td>0.616667</td>\n",
              "      <td>0.81250</td>\n",
              "      <td>0.394161</td>\n",
              "      <td>...</td>\n",
              "      <td>0.0</td>\n",
              "      <td>0.0</td>\n",
              "      <td>0.0</td>\n",
              "      <td>0.0</td>\n",
              "      <td>0.0</td>\n",
              "      <td>0.0</td>\n",
              "      <td>0.0</td>\n",
              "      <td>1.0</td>\n",
              "      <td>0.0</td>\n",
              "      <td>0.0</td>\n",
              "    </tr>\n",
              "    <tr>\n",
              "      <th>4</th>\n",
              "      <td>0.462929</td>\n",
              "      <td>0.529851</td>\n",
              "      <td>0.564815</td>\n",
              "      <td>0.541667</td>\n",
              "      <td>0.518231</td>\n",
              "      <td>0.513699</td>\n",
              "      <td>0.464286</td>\n",
              "      <td>0.616667</td>\n",
              "      <td>0.18750</td>\n",
              "      <td>0.489051</td>\n",
              "      <td>...</td>\n",
              "      <td>0.0</td>\n",
              "      <td>0.0</td>\n",
              "      <td>0.0</td>\n",
              "      <td>0.0</td>\n",
              "      <td>0.0</td>\n",
              "      <td>0.0</td>\n",
              "      <td>0.0</td>\n",
              "      <td>1.0</td>\n",
              "      <td>0.0</td>\n",
              "      <td>0.0</td>\n",
              "    </tr>\n",
              "    <tr>\n",
              "      <th>...</th>\n",
              "      <td>...</td>\n",
              "      <td>...</td>\n",
              "      <td>...</td>\n",
              "      <td>...</td>\n",
              "      <td>...</td>\n",
              "      <td>...</td>\n",
              "      <td>...</td>\n",
              "      <td>...</td>\n",
              "      <td>...</td>\n",
              "      <td>...</td>\n",
              "      <td>...</td>\n",
              "      <td>...</td>\n",
              "      <td>...</td>\n",
              "      <td>...</td>\n",
              "      <td>...</td>\n",
              "      <td>...</td>\n",
              "      <td>...</td>\n",
              "      <td>...</td>\n",
              "      <td>...</td>\n",
              "      <td>...</td>\n",
              "      <td>...</td>\n",
              "    </tr>\n",
              "    <tr>\n",
              "      <th>200</th>\n",
              "      <td>0.813743</td>\n",
              "      <td>0.711940</td>\n",
              "      <td>0.796296</td>\n",
              "      <td>0.641667</td>\n",
              "      <td>0.567882</td>\n",
              "      <td>0.547945</td>\n",
              "      <td>0.885714</td>\n",
              "      <td>0.408333</td>\n",
              "      <td>0.65625</td>\n",
              "      <td>0.481752</td>\n",
              "      <td>...</td>\n",
              "      <td>0.0</td>\n",
              "      <td>0.0</td>\n",
              "      <td>0.0</td>\n",
              "      <td>0.0</td>\n",
              "      <td>0.0</td>\n",
              "      <td>0.0</td>\n",
              "      <td>0.0</td>\n",
              "      <td>1.0</td>\n",
              "      <td>0.0</td>\n",
              "      <td>0.0</td>\n",
              "    </tr>\n",
              "    <tr>\n",
              "      <th>201</th>\n",
              "      <td>0.813743</td>\n",
              "      <td>0.711940</td>\n",
              "      <td>0.787037</td>\n",
              "      <td>0.641667</td>\n",
              "      <td>0.605508</td>\n",
              "      <td>0.547945</td>\n",
              "      <td>0.885714</td>\n",
              "      <td>0.408333</td>\n",
              "      <td>0.40625</td>\n",
              "      <td>0.817518</td>\n",
              "      <td>...</td>\n",
              "      <td>0.0</td>\n",
              "      <td>0.0</td>\n",
              "      <td>0.0</td>\n",
              "      <td>0.0</td>\n",
              "      <td>0.0</td>\n",
              "      <td>0.0</td>\n",
              "      <td>0.0</td>\n",
              "      <td>1.0</td>\n",
              "      <td>0.0</td>\n",
              "      <td>0.0</td>\n",
              "    </tr>\n",
              "    <tr>\n",
              "      <th>202</th>\n",
              "      <td>0.813743</td>\n",
              "      <td>0.711940</td>\n",
              "      <td>0.796296</td>\n",
              "      <td>0.641667</td>\n",
              "      <td>0.591156</td>\n",
              "      <td>0.767123</td>\n",
              "      <td>0.742857</td>\n",
              "      <td>0.175000</td>\n",
              "      <td>0.43750</td>\n",
              "      <td>0.627737</td>\n",
              "      <td>...</td>\n",
              "      <td>0.0</td>\n",
              "      <td>0.0</td>\n",
              "      <td>0.0</td>\n",
              "      <td>0.0</td>\n",
              "      <td>0.0</td>\n",
              "      <td>0.0</td>\n",
              "      <td>0.0</td>\n",
              "      <td>1.0</td>\n",
              "      <td>0.0</td>\n",
              "      <td>0.0</td>\n",
              "    </tr>\n",
              "    <tr>\n",
              "      <th>203</th>\n",
              "      <td>0.813743</td>\n",
              "      <td>0.711940</td>\n",
              "      <td>0.796296</td>\n",
              "      <td>0.641667</td>\n",
              "      <td>0.670675</td>\n",
              "      <td>0.575342</td>\n",
              "      <td>0.335714</td>\n",
              "      <td>0.616667</td>\n",
              "      <td>1.00000</td>\n",
              "      <td>0.423358</td>\n",
              "      <td>...</td>\n",
              "      <td>0.0</td>\n",
              "      <td>0.0</td>\n",
              "      <td>0.0</td>\n",
              "      <td>0.0</td>\n",
              "      <td>0.0</td>\n",
              "      <td>1.0</td>\n",
              "      <td>0.0</td>\n",
              "      <td>0.0</td>\n",
              "      <td>0.0</td>\n",
              "      <td>0.0</td>\n",
              "    </tr>\n",
              "    <tr>\n",
              "      <th>204</th>\n",
              "      <td>0.813743</td>\n",
              "      <td>0.711940</td>\n",
              "      <td>0.796296</td>\n",
              "      <td>0.641667</td>\n",
              "      <td>0.610551</td>\n",
              "      <td>0.547945</td>\n",
              "      <td>0.885714</td>\n",
              "      <td>0.408333</td>\n",
              "      <td>0.65625</td>\n",
              "      <td>0.481752</td>\n",
              "      <td>...</td>\n",
              "      <td>0.0</td>\n",
              "      <td>0.0</td>\n",
              "      <td>0.0</td>\n",
              "      <td>0.0</td>\n",
              "      <td>0.0</td>\n",
              "      <td>0.0</td>\n",
              "      <td>0.0</td>\n",
              "      <td>1.0</td>\n",
              "      <td>0.0</td>\n",
              "      <td>0.0</td>\n",
              "    </tr>\n",
              "  </tbody>\n",
              "</table>\n",
              "<p>203 rows × 69 columns</p>\n",
              "</div>\n",
              "      <button class=\"colab-df-convert\" onclick=\"convertToInteractive('df-77e85853-ddb2-4f3a-8380-c484ba23ba5c')\"\n",
              "              title=\"Convert this dataframe to an interactive table.\"\n",
              "              style=\"display:none;\">\n",
              "        \n",
              "  <svg xmlns=\"http://www.w3.org/2000/svg\" height=\"24px\"viewBox=\"0 0 24 24\"\n",
              "       width=\"24px\">\n",
              "    <path d=\"M0 0h24v24H0V0z\" fill=\"none\"/>\n",
              "    <path d=\"M18.56 5.44l.94 2.06.94-2.06 2.06-.94-2.06-.94-.94-2.06-.94 2.06-2.06.94zm-11 1L8.5 8.5l.94-2.06 2.06-.94-2.06-.94L8.5 2.5l-.94 2.06-2.06.94zm10 10l.94 2.06.94-2.06 2.06-.94-2.06-.94-.94-2.06-.94 2.06-2.06.94z\"/><path d=\"M17.41 7.96l-1.37-1.37c-.4-.4-.92-.59-1.43-.59-.52 0-1.04.2-1.43.59L10.3 9.45l-7.72 7.72c-.78.78-.78 2.05 0 2.83L4 21.41c.39.39.9.59 1.41.59.51 0 1.02-.2 1.41-.59l7.78-7.78 2.81-2.81c.8-.78.8-2.07 0-2.86zM5.41 20L4 18.59l7.72-7.72 1.47 1.35L5.41 20z\"/>\n",
              "  </svg>\n",
              "      </button>\n",
              "      \n",
              "  <style>\n",
              "    .colab-df-container {\n",
              "      display:flex;\n",
              "      flex-wrap:wrap;\n",
              "      gap: 12px;\n",
              "    }\n",
              "\n",
              "    .colab-df-convert {\n",
              "      background-color: #E8F0FE;\n",
              "      border: none;\n",
              "      border-radius: 50%;\n",
              "      cursor: pointer;\n",
              "      display: none;\n",
              "      fill: #1967D2;\n",
              "      height: 32px;\n",
              "      padding: 0 0 0 0;\n",
              "      width: 32px;\n",
              "    }\n",
              "\n",
              "    .colab-df-convert:hover {\n",
              "      background-color: #E2EBFA;\n",
              "      box-shadow: 0px 1px 2px rgba(60, 64, 67, 0.3), 0px 1px 3px 1px rgba(60, 64, 67, 0.15);\n",
              "      fill: #174EA6;\n",
              "    }\n",
              "\n",
              "    [theme=dark] .colab-df-convert {\n",
              "      background-color: #3B4455;\n",
              "      fill: #D2E3FC;\n",
              "    }\n",
              "\n",
              "    [theme=dark] .colab-df-convert:hover {\n",
              "      background-color: #434B5C;\n",
              "      box-shadow: 0px 1px 3px 1px rgba(0, 0, 0, 0.15);\n",
              "      filter: drop-shadow(0px 1px 2px rgba(0, 0, 0, 0.3));\n",
              "      fill: #FFFFFF;\n",
              "    }\n",
              "  </style>\n",
              "\n",
              "      <script>\n",
              "        const buttonEl =\n",
              "          document.querySelector('#df-77e85853-ddb2-4f3a-8380-c484ba23ba5c button.colab-df-convert');\n",
              "        buttonEl.style.display =\n",
              "          google.colab.kernel.accessAllowed ? 'block' : 'none';\n",
              "\n",
              "        async function convertToInteractive(key) {\n",
              "          const element = document.querySelector('#df-77e85853-ddb2-4f3a-8380-c484ba23ba5c');\n",
              "          const dataTable =\n",
              "            await google.colab.kernel.invokeFunction('convertToInteractive',\n",
              "                                                     [key], {});\n",
              "          if (!dataTable) return;\n",
              "\n",
              "          const docLinkHtml = 'Like what you see? Visit the ' +\n",
              "            '<a target=\"_blank\" href=https://colab.research.google.com/notebooks/data_table.ipynb>data table notebook</a>'\n",
              "            + ' to learn more about interactive tables.';\n",
              "          element.innerHTML = '';\n",
              "          dataTable['output_type'] = 'display_data';\n",
              "          await google.colab.output.renderOutput(dataTable, element);\n",
              "          const docLink = document.createElement('div');\n",
              "          docLink.innerHTML = docLinkHtml;\n",
              "          element.appendChild(docLink);\n",
              "        }\n",
              "      </script>\n",
              "    </div>\n",
              "  </div>\n",
              "  "
            ]
          },
          "metadata": {},
          "execution_count": 25
        }
      ]
    },
    {
      "cell_type": "markdown",
      "source": [
        "# 4. Entrenamiento y validación del modelo de predicción"
      ],
      "metadata": {
        "id": "yeL69E6XoKfv"
      }
    },
    {
      "cell_type": "code",
      "source": [
        "import sklearn as sk\n",
        "from sklearn import model_selection\n",
        "from sklearn import neural_network\n",
        "from sklearn import metrics\n",
        "\n",
        "from sklearn.neural_network import MLPRegressor\n",
        "from sklearn.compose import ColumnTransformer\n",
        "from sklearn.preprocessing import OneHotEncoder\n",
        "from sklearn.preprocessing import StandardScaler\n",
        "from sklearn.compose import make_column_selector\n",
        "from sklearn.pipeline import Pipeline\n",
        "from sklearn.metrics import mean_squared_error\n",
        "from sklearn.model_selection import RandomizedSearchCV\n",
        "from sklearn.model_selection import KFold\n",
        "from sklearn import set_config\n",
        "import multiprocessing"
      ],
      "metadata": {
        "id": "wexq8Omee7a2"
      },
      "execution_count": null,
      "outputs": []
    },
    {
      "cell_type": "code",
      "source": [
        "X = df[df.columns.drop(\"price\")]\n",
        "y = df[\"price\"]"
      ],
      "metadata": {
        "id": "yIAJOVb8eWGp"
      },
      "execution_count": null,
      "outputs": []
    },
    {
      "cell_type": "code",
      "source": [
        "X_train, X_test, y_train, y_test = sk.model_selection.train_test_split(X, y, test_size=0.20, random_state=42)"
      ],
      "metadata": {
        "id": "9MDuFd1Zew0_"
      },
      "execution_count": null,
      "outputs": []
    },
    {
      "cell_type": "markdown",
      "source": [
        "A pesar de que son muchas las variables que se utilizan a la hora de realizar una red neuronal en este caso nos centramos en algunas en especifico\n",
        "\n",
        "\n",
        "*   hidden_layer_sizes: número y tamaño de las capas ocultas. Por ejemplo, (100) para una única capa oculta con 100 neuronas, y (16, 16) para dos capas ocultas de 16 neuronas de cada una. El valor por defecto es (100,).\n",
        "*   activation: función de activación de las capas ocultas. Puede ser: {'identity', 'logistic', 'tanh', 'relu'}. La misma función de activación se aplica a todas las capas ocultas, no se permiten distintas. El valor por defecto es 'relu'\n",
        "* learning_rate_init: valor inicial de learning rate. Solo se utiliza cuando el solver es 'sgd' o 'adam'. Por defecto el valor es 0.001.\n",
        "* max_iter: número máximo de iteraciones de entrenamiento. Para los solvers estocásticos ('sgd' y 'adam') este valor se corresponde con el número de épocas (cuantas veces participa en el entrenamiento cada observación). Se emplean por defecto 200.\n",
        "* random_state: semilla utilizada para todos los pasos del entrenaiento que requieren de valores aleatorios (inicialización depesos, splits, bias).\n",
        "\n",
        "\n"
      ],
      "metadata": {
        "id": "ISEkBHLw2xNb"
      }
    },
    {
      "cell_type": "code",
      "source": [
        "# se realiza un ejemplo\n",
        "reg_1=sk.neural_network.MLPRegressor(\n",
        "               hidden_layer_sizes=[4, 3],\n",
        "                activation='relu',\n",
        "                learning_rate_init=0.001,\n",
        "                max_iter=500,\n",
        "                random_state=42)\n",
        "reg_1.fit(X_train, y_train)\n",
        "scores = sk.model_selection.cross_val_score(reg_1, X, y,scoring='r2')\n",
        "scores"
      ],
      "metadata": {
        "colab": {
          "base_uri": "https://localhost:8080/"
        },
        "id": "qHi4qdJWaol2",
        "outputId": "fe849768-c688-480a-d71d-b3bedb01b1e5"
      },
      "execution_count": null,
      "outputs": [
        {
          "output_type": "execute_result",
          "data": {
            "text/plain": [
              "array([0.51849927, 0.0492835 , 0.41048916, 0.38740635, 0.16176356])"
            ]
          },
          "metadata": {},
          "execution_count": 35
        }
      ]
    },
    {
      "cell_type": "markdown",
      "source": [
        "se procede a ver el resultado de la red"
      ],
      "metadata": {
        "id": "ohD4gjJoIMrl"
      }
    },
    {
      "cell_type": "code",
      "source": [
        "y_pred = reg_1.predict(X_test)\n",
        "print(sk.metrics.mean_squared_error(y_test, y_pred))\n",
        "print(sk.metrics.r2_score(y_test, y_pred))"
      ],
      "metadata": {
        "colab": {
          "base_uri": "https://localhost:8080/"
        },
        "id": "JrRGF0GbH7Kw",
        "outputId": "3b1a1eaf-138f-410c-fff5-d80ed43e68d3"
      },
      "execution_count": null,
      "outputs": [
        {
          "output_type": "stream",
          "name": "stdout",
          "text": [
            "0.057454972121978226\n",
            "0.4624309203865239\n"
          ]
        }
      ]
    },
    {
      "cell_type": "markdown",
      "source": [
        "## optimización de parametros"
      ],
      "metadata": {
        "id": "CHJB-QTacN-e"
      }
    },
    {
      "cell_type": "markdown",
      "source": [
        "Primero vemos las variables por aparte, primero se realiza con el numero maximo de interaciones\n"
      ],
      "metadata": {
        "id": "Iw9EZ2mvVRJQ"
      }
    },
    {
      "cell_type": "code",
      "source": [
        "nums = [500,1000,2000]\n",
        "\n",
        "for i in range(len(nums)):\n",
        "\n",
        "    model= sk.neural_network.MLPRegressor(hidden_layer_sizes=[4,3],\n",
        "                                  activation='relu',\n",
        "                                  learning_rate_init=0.01,\n",
        "                                   max_iter=nums[i],\n",
        "                                   random_state=42)\n",
        "\n",
        "    print(model.fit(X_train, y_train))\n",
        "    print(sk.metrics.mean_squared_error(y_test, model.predict(X_test)))\n",
        "    print(sk.metrics.r2_score(y_test, model.predict(X_test)))\n",
        "\n"
      ],
      "metadata": {
        "colab": {
          "base_uri": "https://localhost:8080/"
        },
        "id": "3g_ZwSrLVb_n",
        "outputId": "e5719fe5-8e31-4cbd-c646-b2b87829b7f4"
      },
      "execution_count": null,
      "outputs": [
        {
          "output_type": "stream",
          "name": "stdout",
          "text": [
            "MLPRegressor(hidden_layer_sizes=[4, 3], learning_rate_init=0.01, max_iter=500,\n",
            "             random_state=42)\n",
            "0.02260530831768927\n",
            "0.7884967246886783\n",
            "MLPRegressor(hidden_layer_sizes=[4, 3], learning_rate_init=0.01, max_iter=1000,\n",
            "             random_state=42)\n",
            "0.02260530831768927\n",
            "0.7884967246886783\n",
            "MLPRegressor(hidden_layer_sizes=[4, 3], learning_rate_init=0.01, max_iter=2000,\n",
            "             random_state=42)\n",
            "0.02260530831768927\n",
            "0.7884967246886783\n"
          ]
        }
      ]
    },
    {
      "cell_type": "markdown",
      "source": [
        "parece no haber diferencia, al cambiar solo la maxima interacion"
      ],
      "metadata": {
        "id": "wtIzDN9yWHdx"
      }
    },
    {
      "cell_type": "markdown",
      "source": [
        "Se prueba después el learning rate"
      ],
      "metadata": {
        "id": "7oeDfC4hWgsB"
      }
    },
    {
      "cell_type": "code",
      "source": [
        "nums = [0.0001,0.001,0.01,0.1]\n",
        "\n",
        "for i in range(len(nums)):\n",
        "\n",
        "    model= sk.neural_network.MLPRegressor(hidden_layer_sizes=[4,3],\n",
        "                                  activation='relu',\n",
        "                                  learning_rate_init=nums[i],\n",
        "                                   max_iter=500,\n",
        "                                   random_state=42)\n",
        "\n",
        "    print(model.fit(X_train, y_train))\n",
        "    print(sk.metrics.mean_squared_error(y_test, model.predict(X_test)))\n",
        "    print(sk.metrics.r2_score(y_test, model.predict(X_test)))\n"
      ],
      "metadata": {
        "colab": {
          "base_uri": "https://localhost:8080/"
        },
        "id": "-MmaDwFlN5zr",
        "outputId": "c61a92e3-8cee-45f1-9e74-e27728d0a33c"
      },
      "execution_count": null,
      "outputs": [
        {
          "output_type": "stream",
          "name": "stderr",
          "text": [
            "/usr/local/lib/python3.7/dist-packages/sklearn/neural_network/_multilayer_perceptron.py:696: ConvergenceWarning: Stochastic Optimizer: Maximum iterations (500) reached and the optimization hasn't converged yet.\n",
            "  ConvergenceWarning,\n"
          ]
        },
        {
          "output_type": "stream",
          "name": "stdout",
          "text": [
            "MLPRegressor(hidden_layer_sizes=[4, 3], learning_rate_init=0.0001, max_iter=500,\n",
            "             random_state=42)\n",
            "0.3091002156449384\n",
            "-1.8920511540726057\n",
            "MLPRegressor(hidden_layer_sizes=[4, 3], max_iter=500, random_state=42)\n",
            "0.057454972121978226\n",
            "0.4624309203865239\n",
            "MLPRegressor(hidden_layer_sizes=[4, 3], learning_rate_init=0.01, max_iter=500,\n",
            "             random_state=42)\n",
            "0.02260530831768927\n",
            "0.7884967246886783\n",
            "MLPRegressor(hidden_layer_sizes=[4, 3], learning_rate_init=0.1, max_iter=500,\n",
            "             random_state=42)\n",
            "0.15799463066413108\n",
            "-0.4782537533857518\n"
          ]
        }
      ]
    },
    {
      "cell_type": "markdown",
      "source": [
        "Al cambiar solo el learning_rate_init parece ser que es mejor de 0.01"
      ],
      "metadata": {
        "id": "Oeg1hJz0W8ul"
      }
    },
    {
      "cell_type": "markdown",
      "source": [
        "Finalmente se prueba con  el número y tamaño de las capas ocultas"
      ],
      "metadata": {
        "id": "0w0A08fcXmr4"
      }
    },
    {
      "cell_type": "code",
      "source": [
        "nums = [(3),(4),(10),(20),(3,4),(10, 10),(20,20),(10,10,10)]\n",
        "\n",
        "for i in range(len(nums)):\n",
        "\n",
        "    model= sk.neural_network.MLPRegressor(hidden_layer_sizes=nums[i],\n",
        "                                  activation='relu',\n",
        "                                  learning_rate_init=0.01,\n",
        "                                   max_iter=500,\n",
        "                                   random_state=42)\n",
        "\n",
        "    print(model.fit(X_train, y_train))\n",
        "    print(sk.metrics.mean_squared_error(y_test, model.predict(X_test)))\n",
        "    print(sk.metrics.r2_score(y_test, model.predict(X_test)))\n"
      ],
      "metadata": {
        "colab": {
          "base_uri": "https://localhost:8080/"
        },
        "id": "Te046ewuiTXr",
        "outputId": "ce4b830b-2f73-4b12-bd3e-756e1717a1ef"
      },
      "execution_count": null,
      "outputs": [
        {
          "output_type": "stream",
          "name": "stdout",
          "text": [
            "MLPRegressor(hidden_layer_sizes=3, learning_rate_init=0.01, max_iter=500,\n",
            "             random_state=42)\n",
            "0.013713722560004455\n",
            "0.8716895519676682\n",
            "MLPRegressor(hidden_layer_sizes=4, learning_rate_init=0.01, max_iter=500,\n",
            "             random_state=42)\n",
            "0.11456393299661449\n",
            "-0.0719007553800819\n",
            "MLPRegressor(hidden_layer_sizes=10, learning_rate_init=0.01, max_iter=500,\n",
            "             random_state=42)\n",
            "0.02682402773837013\n",
            "0.7490248907922454\n",
            "MLPRegressor(hidden_layer_sizes=20, learning_rate_init=0.01, max_iter=500,\n",
            "             random_state=42)\n",
            "0.023052670039234027\n",
            "0.784311049889384\n",
            "MLPRegressor(hidden_layer_sizes=(3, 4), learning_rate_init=0.01, max_iter=500,\n",
            "             random_state=42)\n",
            "0.02383800110342007\n",
            "0.7769632141534257\n",
            "MLPRegressor(hidden_layer_sizes=(10, 10), learning_rate_init=0.01, max_iter=500,\n",
            "             random_state=42)\n",
            "0.016408527824465075\n",
            "0.8464759989495214\n",
            "MLPRegressor(hidden_layer_sizes=(20, 20), learning_rate_init=0.01, max_iter=500,\n",
            "             random_state=42)\n",
            "0.01417317369010417\n",
            "0.8673907643777845\n",
            "MLPRegressor(hidden_layer_sizes=(10, 10, 10), learning_rate_init=0.01,\n",
            "             max_iter=500, random_state=42)\n",
            "0.018263208553017853\n",
            "0.8291229488060408\n"
          ]
        }
      ]
    },
    {
      "cell_type": "markdown",
      "source": [
        "Parece ser que al tener 2 capas ocultas de 20 es mejor que 3 de 10"
      ],
      "metadata": {
        "id": "lQmYwSUVYJLG"
      }
    },
    {
      "cell_type": "markdown",
      "source": [
        "Despues se decide hacer una validacion cambindo mas parametros al mismo tiempo"
      ],
      "metadata": {
        "id": "5OCijxBXdv7Q"
      }
    },
    {
      "cell_type": "code",
      "source": [
        "param_distributions = {\n",
        "    'hidden_layer_sizes': [(3),(4),(10),(20),(3,4),(10, 10),(20,20),(10,10,10)],\n",
        "    'max_iter': [500,1000],\n",
        "    'learning_rate_init': [0.0001,0.001, 0.01, 0.1],\n",
        "}"
      ],
      "metadata": {
        "id": "XfhBvAoumFy5"
      },
      "execution_count": null,
      "outputs": []
    },
    {
      "cell_type": "markdown",
      "source": [
        "se realiza la busqueda por validación cruzada"
      ],
      "metadata": {
        "id": "MxGNImAPtog5"
      }
    },
    {
      "cell_type": "code",
      "source": [
        "grid = RandomizedSearchCV(\n",
        "        estimator  = sk.neural_network.MLPRegressor(activation='relu'),\n",
        "        param_distributions = param_distributions,\n",
        "        n_iter     = 50,\n",
        "        scoring    = 'neg_mean_squared_error',\n",
        "        n_jobs     = multiprocessing.cpu_count() - 1,\n",
        "        cv         = 5,\n",
        "        verbose    = 0,\n",
        "        random_state = 42,\n",
        "        return_train_score = True\n",
        "       )\n"
      ],
      "metadata": {
        "id": "kQfGUeOPtu_i"
      },
      "execution_count": null,
      "outputs": []
    },
    {
      "cell_type": "code",
      "source": [
        "grid.fit(X = X_train, y = y_train)"
      ],
      "metadata": {
        "colab": {
          "base_uri": "https://localhost:8080/"
        },
        "id": "6hRGs7VnrQzc",
        "outputId": "70575d6c-bade-462c-e865-744982f14387"
      },
      "execution_count": null,
      "outputs": [
        {
          "output_type": "stream",
          "name": "stderr",
          "text": [
            "/usr/local/lib/python3.7/dist-packages/sklearn/neural_network/_multilayer_perceptron.py:696: ConvergenceWarning: Stochastic Optimizer: Maximum iterations (500) reached and the optimization hasn't converged yet.\n",
            "  ConvergenceWarning,\n",
            "/usr/local/lib/python3.7/dist-packages/sklearn/neural_network/_multilayer_perceptron.py:696: ConvergenceWarning: Stochastic Optimizer: Maximum iterations (500) reached and the optimization hasn't converged yet.\n",
            "  ConvergenceWarning,\n",
            "/usr/local/lib/python3.7/dist-packages/sklearn/neural_network/_multilayer_perceptron.py:696: ConvergenceWarning: Stochastic Optimizer: Maximum iterations (500) reached and the optimization hasn't converged yet.\n",
            "  ConvergenceWarning,\n",
            "/usr/local/lib/python3.7/dist-packages/sklearn/neural_network/_multilayer_perceptron.py:696: ConvergenceWarning: Stochastic Optimizer: Maximum iterations (1000) reached and the optimization hasn't converged yet.\n",
            "  ConvergenceWarning,\n",
            "/usr/local/lib/python3.7/dist-packages/sklearn/neural_network/_multilayer_perceptron.py:696: ConvergenceWarning: Stochastic Optimizer: Maximum iterations (500) reached and the optimization hasn't converged yet.\n",
            "  ConvergenceWarning,\n",
            "/usr/local/lib/python3.7/dist-packages/sklearn/neural_network/_multilayer_perceptron.py:696: ConvergenceWarning: Stochastic Optimizer: Maximum iterations (500) reached and the optimization hasn't converged yet.\n",
            "  ConvergenceWarning,\n",
            "/usr/local/lib/python3.7/dist-packages/sklearn/neural_network/_multilayer_perceptron.py:696: ConvergenceWarning: Stochastic Optimizer: Maximum iterations (1000) reached and the optimization hasn't converged yet.\n",
            "  ConvergenceWarning,\n",
            "/usr/local/lib/python3.7/dist-packages/sklearn/neural_network/_multilayer_perceptron.py:696: ConvergenceWarning: Stochastic Optimizer: Maximum iterations (500) reached and the optimization hasn't converged yet.\n",
            "  ConvergenceWarning,\n",
            "/usr/local/lib/python3.7/dist-packages/sklearn/neural_network/_multilayer_perceptron.py:696: ConvergenceWarning: Stochastic Optimizer: Maximum iterations (500) reached and the optimization hasn't converged yet.\n",
            "  ConvergenceWarning,\n",
            "/usr/local/lib/python3.7/dist-packages/sklearn/neural_network/_multilayer_perceptron.py:696: ConvergenceWarning: Stochastic Optimizer: Maximum iterations (1000) reached and the optimization hasn't converged yet.\n",
            "  ConvergenceWarning,\n",
            "/usr/local/lib/python3.7/dist-packages/sklearn/neural_network/_multilayer_perceptron.py:696: ConvergenceWarning: Stochastic Optimizer: Maximum iterations (1000) reached and the optimization hasn't converged yet.\n",
            "  ConvergenceWarning,\n",
            "/usr/local/lib/python3.7/dist-packages/sklearn/neural_network/_multilayer_perceptron.py:696: ConvergenceWarning: Stochastic Optimizer: Maximum iterations (500) reached and the optimization hasn't converged yet.\n",
            "  ConvergenceWarning,\n",
            "/usr/local/lib/python3.7/dist-packages/sklearn/neural_network/_multilayer_perceptron.py:696: ConvergenceWarning: Stochastic Optimizer: Maximum iterations (500) reached and the optimization hasn't converged yet.\n",
            "  ConvergenceWarning,\n",
            "/usr/local/lib/python3.7/dist-packages/sklearn/neural_network/_multilayer_perceptron.py:696: ConvergenceWarning: Stochastic Optimizer: Maximum iterations (500) reached and the optimization hasn't converged yet.\n",
            "  ConvergenceWarning,\n",
            "/usr/local/lib/python3.7/dist-packages/sklearn/neural_network/_multilayer_perceptron.py:696: ConvergenceWarning: Stochastic Optimizer: Maximum iterations (1000) reached and the optimization hasn't converged yet.\n",
            "  ConvergenceWarning,\n"
          ]
        },
        {
          "output_type": "execute_result",
          "data": {
            "text/plain": [
              "RandomizedSearchCV(cv=5, estimator=MLPRegressor(), n_iter=50, n_jobs=1,\n",
              "                   param_distributions={'hidden_layer_sizes': [3, 4, 10, 20,\n",
              "                                                               (3, 4), (10, 10),\n",
              "                                                               (20, 20),\n",
              "                                                               (10, 10, 10)],\n",
              "                                        'learning_rate_init': [0.0001, 0.001,\n",
              "                                                               0.01, 0.1],\n",
              "                                        'max_iter': [500, 1000]},\n",
              "                   random_state=42, return_train_score=True,\n",
              "                   scoring='neg_mean_squared_error')"
            ]
          },
          "metadata": {},
          "execution_count": 193
        }
      ]
    },
    {
      "cell_type": "markdown",
      "source": [
        "Se evidencian los resultados del grid"
      ],
      "metadata": {
        "id": "AdQF-rdsuAIj"
      }
    },
    {
      "cell_type": "code",
      "source": [
        "resultados = pd.DataFrame(grid.cv_results_)\n",
        "resultados.filter(regex = '(param.*|mean_t|std_t)')\\\n",
        "    .drop(columns = 'params')\\\n",
        "    .sort_values('mean_test_score', ascending = False)\\\n",
        "    .head(10)"
      ],
      "metadata": {
        "colab": {
          "base_uri": "https://localhost:8080/",
          "height": 427
        },
        "id": "1AY1WJC-jEw5",
        "outputId": "b046b362-b4f5-4061-c562-e01d8b071b3c"
      },
      "execution_count": null,
      "outputs": [
        {
          "output_type": "execute_result",
          "data": {
            "text/plain": [
              "   param_max_iter param_learning_rate_init param_hidden_layer_sizes  \\\n",
              "31            500                     0.01             (10, 10, 10)   \n",
              "9            1000                     0.01             (10, 10, 10)   \n",
              "0             500                     0.01                 (20, 20)   \n",
              "40           1000                     0.01                 (10, 10)   \n",
              "42           1000                     0.01                       20   \n",
              "3             500                     0.01                 (10, 10)   \n",
              "46           1000                     0.01                       10   \n",
              "30           1000                    0.001             (10, 10, 10)   \n",
              "7             500                     0.01                        4   \n",
              "15            500                    0.001                 (20, 20)   \n",
              "\n",
              "    mean_test_score  std_test_score  mean_train_score  std_train_score  \n",
              "31        -0.007794        0.003767         -0.003750         0.000910  \n",
              "9         -0.009451        0.004387         -0.004063         0.001490  \n",
              "0         -0.009484        0.003709         -0.002994         0.000900  \n",
              "40        -0.010097        0.005152         -0.003046         0.000693  \n",
              "42        -0.010249        0.004027         -0.002777         0.000669  \n",
              "3         -0.010970        0.004932         -0.004208         0.000779  \n",
              "46        -0.013235        0.003730         -0.003990         0.001059  \n",
              "30        -0.014845        0.006495         -0.008190         0.001564  \n",
              "7         -0.015413        0.008278         -0.009922         0.004969  \n",
              "15        -0.015644        0.004087         -0.007850         0.002015  "
            ],
            "text/html": [
              "\n",
              "  <div id=\"df-f85d30db-909d-42e7-8cf3-e100921b6c67\">\n",
              "    <div class=\"colab-df-container\">\n",
              "      <div>\n",
              "<style scoped>\n",
              "    .dataframe tbody tr th:only-of-type {\n",
              "        vertical-align: middle;\n",
              "    }\n",
              "\n",
              "    .dataframe tbody tr th {\n",
              "        vertical-align: top;\n",
              "    }\n",
              "\n",
              "    .dataframe thead th {\n",
              "        text-align: right;\n",
              "    }\n",
              "</style>\n",
              "<table border=\"1\" class=\"dataframe\">\n",
              "  <thead>\n",
              "    <tr style=\"text-align: right;\">\n",
              "      <th></th>\n",
              "      <th>param_max_iter</th>\n",
              "      <th>param_learning_rate_init</th>\n",
              "      <th>param_hidden_layer_sizes</th>\n",
              "      <th>mean_test_score</th>\n",
              "      <th>std_test_score</th>\n",
              "      <th>mean_train_score</th>\n",
              "      <th>std_train_score</th>\n",
              "    </tr>\n",
              "  </thead>\n",
              "  <tbody>\n",
              "    <tr>\n",
              "      <th>31</th>\n",
              "      <td>500</td>\n",
              "      <td>0.01</td>\n",
              "      <td>(10, 10, 10)</td>\n",
              "      <td>-0.007794</td>\n",
              "      <td>0.003767</td>\n",
              "      <td>-0.003750</td>\n",
              "      <td>0.000910</td>\n",
              "    </tr>\n",
              "    <tr>\n",
              "      <th>9</th>\n",
              "      <td>1000</td>\n",
              "      <td>0.01</td>\n",
              "      <td>(10, 10, 10)</td>\n",
              "      <td>-0.009451</td>\n",
              "      <td>0.004387</td>\n",
              "      <td>-0.004063</td>\n",
              "      <td>0.001490</td>\n",
              "    </tr>\n",
              "    <tr>\n",
              "      <th>0</th>\n",
              "      <td>500</td>\n",
              "      <td>0.01</td>\n",
              "      <td>(20, 20)</td>\n",
              "      <td>-0.009484</td>\n",
              "      <td>0.003709</td>\n",
              "      <td>-0.002994</td>\n",
              "      <td>0.000900</td>\n",
              "    </tr>\n",
              "    <tr>\n",
              "      <th>40</th>\n",
              "      <td>1000</td>\n",
              "      <td>0.01</td>\n",
              "      <td>(10, 10)</td>\n",
              "      <td>-0.010097</td>\n",
              "      <td>0.005152</td>\n",
              "      <td>-0.003046</td>\n",
              "      <td>0.000693</td>\n",
              "    </tr>\n",
              "    <tr>\n",
              "      <th>42</th>\n",
              "      <td>1000</td>\n",
              "      <td>0.01</td>\n",
              "      <td>20</td>\n",
              "      <td>-0.010249</td>\n",
              "      <td>0.004027</td>\n",
              "      <td>-0.002777</td>\n",
              "      <td>0.000669</td>\n",
              "    </tr>\n",
              "    <tr>\n",
              "      <th>3</th>\n",
              "      <td>500</td>\n",
              "      <td>0.01</td>\n",
              "      <td>(10, 10)</td>\n",
              "      <td>-0.010970</td>\n",
              "      <td>0.004932</td>\n",
              "      <td>-0.004208</td>\n",
              "      <td>0.000779</td>\n",
              "    </tr>\n",
              "    <tr>\n",
              "      <th>46</th>\n",
              "      <td>1000</td>\n",
              "      <td>0.01</td>\n",
              "      <td>10</td>\n",
              "      <td>-0.013235</td>\n",
              "      <td>0.003730</td>\n",
              "      <td>-0.003990</td>\n",
              "      <td>0.001059</td>\n",
              "    </tr>\n",
              "    <tr>\n",
              "      <th>30</th>\n",
              "      <td>1000</td>\n",
              "      <td>0.001</td>\n",
              "      <td>(10, 10, 10)</td>\n",
              "      <td>-0.014845</td>\n",
              "      <td>0.006495</td>\n",
              "      <td>-0.008190</td>\n",
              "      <td>0.001564</td>\n",
              "    </tr>\n",
              "    <tr>\n",
              "      <th>7</th>\n",
              "      <td>500</td>\n",
              "      <td>0.01</td>\n",
              "      <td>4</td>\n",
              "      <td>-0.015413</td>\n",
              "      <td>0.008278</td>\n",
              "      <td>-0.009922</td>\n",
              "      <td>0.004969</td>\n",
              "    </tr>\n",
              "    <tr>\n",
              "      <th>15</th>\n",
              "      <td>500</td>\n",
              "      <td>0.001</td>\n",
              "      <td>(20, 20)</td>\n",
              "      <td>-0.015644</td>\n",
              "      <td>0.004087</td>\n",
              "      <td>-0.007850</td>\n",
              "      <td>0.002015</td>\n",
              "    </tr>\n",
              "  </tbody>\n",
              "</table>\n",
              "</div>\n",
              "      <button class=\"colab-df-convert\" onclick=\"convertToInteractive('df-f85d30db-909d-42e7-8cf3-e100921b6c67')\"\n",
              "              title=\"Convert this dataframe to an interactive table.\"\n",
              "              style=\"display:none;\">\n",
              "        \n",
              "  <svg xmlns=\"http://www.w3.org/2000/svg\" height=\"24px\"viewBox=\"0 0 24 24\"\n",
              "       width=\"24px\">\n",
              "    <path d=\"M0 0h24v24H0V0z\" fill=\"none\"/>\n",
              "    <path d=\"M18.56 5.44l.94 2.06.94-2.06 2.06-.94-2.06-.94-.94-2.06-.94 2.06-2.06.94zm-11 1L8.5 8.5l.94-2.06 2.06-.94-2.06-.94L8.5 2.5l-.94 2.06-2.06.94zm10 10l.94 2.06.94-2.06 2.06-.94-2.06-.94-.94-2.06-.94 2.06-2.06.94z\"/><path d=\"M17.41 7.96l-1.37-1.37c-.4-.4-.92-.59-1.43-.59-.52 0-1.04.2-1.43.59L10.3 9.45l-7.72 7.72c-.78.78-.78 2.05 0 2.83L4 21.41c.39.39.9.59 1.41.59.51 0 1.02-.2 1.41-.59l7.78-7.78 2.81-2.81c.8-.78.8-2.07 0-2.86zM5.41 20L4 18.59l7.72-7.72 1.47 1.35L5.41 20z\"/>\n",
              "  </svg>\n",
              "      </button>\n",
              "      \n",
              "  <style>\n",
              "    .colab-df-container {\n",
              "      display:flex;\n",
              "      flex-wrap:wrap;\n",
              "      gap: 12px;\n",
              "    }\n",
              "\n",
              "    .colab-df-convert {\n",
              "      background-color: #E8F0FE;\n",
              "      border: none;\n",
              "      border-radius: 50%;\n",
              "      cursor: pointer;\n",
              "      display: none;\n",
              "      fill: #1967D2;\n",
              "      height: 32px;\n",
              "      padding: 0 0 0 0;\n",
              "      width: 32px;\n",
              "    }\n",
              "\n",
              "    .colab-df-convert:hover {\n",
              "      background-color: #E2EBFA;\n",
              "      box-shadow: 0px 1px 2px rgba(60, 64, 67, 0.3), 0px 1px 3px 1px rgba(60, 64, 67, 0.15);\n",
              "      fill: #174EA6;\n",
              "    }\n",
              "\n",
              "    [theme=dark] .colab-df-convert {\n",
              "      background-color: #3B4455;\n",
              "      fill: #D2E3FC;\n",
              "    }\n",
              "\n",
              "    [theme=dark] .colab-df-convert:hover {\n",
              "      background-color: #434B5C;\n",
              "      box-shadow: 0px 1px 3px 1px rgba(0, 0, 0, 0.15);\n",
              "      filter: drop-shadow(0px 1px 2px rgba(0, 0, 0, 0.3));\n",
              "      fill: #FFFFFF;\n",
              "    }\n",
              "  </style>\n",
              "\n",
              "      <script>\n",
              "        const buttonEl =\n",
              "          document.querySelector('#df-f85d30db-909d-42e7-8cf3-e100921b6c67 button.colab-df-convert');\n",
              "        buttonEl.style.display =\n",
              "          google.colab.kernel.accessAllowed ? 'block' : 'none';\n",
              "\n",
              "        async function convertToInteractive(key) {\n",
              "          const element = document.querySelector('#df-f85d30db-909d-42e7-8cf3-e100921b6c67');\n",
              "          const dataTable =\n",
              "            await google.colab.kernel.invokeFunction('convertToInteractive',\n",
              "                                                     [key], {});\n",
              "          if (!dataTable) return;\n",
              "\n",
              "          const docLinkHtml = 'Like what you see? Visit the ' +\n",
              "            '<a target=\"_blank\" href=https://colab.research.google.com/notebooks/data_table.ipynb>data table notebook</a>'\n",
              "            + ' to learn more about interactive tables.';\n",
              "          element.innerHTML = '';\n",
              "          dataTable['output_type'] = 'display_data';\n",
              "          await google.colab.output.renderOutput(dataTable, element);\n",
              "          const docLink = document.createElement('div');\n",
              "          docLink.innerHTML = docLinkHtml;\n",
              "          element.appendChild(docLink);\n",
              "        }\n",
              "      </script>\n",
              "    </div>\n",
              "  </div>\n",
              "  "
            ]
          },
          "metadata": {},
          "execution_count": 196
        }
      ]
    },
    {
      "cell_type": "markdown",
      "source": [
        "se obtiene el mejor modelo"
      ],
      "metadata": {
        "id": "h4sQLhWXuXQw"
      }
    },
    {
      "cell_type": "code",
      "source": [
        "modelo_final = grid.best_estimator_\n",
        "y_pred = modelo_final.predict(X_test)\n",
        "print(sk.metrics.mean_squared_error(y_test, y_pred))\n",
        "print(sk.metrics.r2_score(y_test, y_pred))"
      ],
      "metadata": {
        "colab": {
          "base_uri": "https://localhost:8080/"
        },
        "id": "svZgDNExjqrf",
        "outputId": "51ae9da2-9d70-484f-c85f-04ac31e4c3d0"
      },
      "execution_count": null,
      "outputs": [
        {
          "output_type": "stream",
          "name": "stdout",
          "text": [
            "0.015012308181642675\n",
            "0.8595395247090819\n"
          ]
        }
      ]
    },
    {
      "cell_type": "markdown",
      "source": [
        "se obtinenen los parametros del mejor modelo"
      ],
      "metadata": {
        "id": "Y-NkPQx5uk7F"
      }
    },
    {
      "cell_type": "code",
      "source": [
        "modelo_final.get_params()"
      ],
      "metadata": {
        "colab": {
          "base_uri": "https://localhost:8080/"
        },
        "id": "dbGCBKZYloIX",
        "outputId": "0c75c3dc-542e-46ca-c5a2-1da1265388cc"
      },
      "execution_count": null,
      "outputs": [
        {
          "output_type": "execute_result",
          "data": {
            "text/plain": [
              "{'activation': 'relu',\n",
              " 'alpha': 0.0001,\n",
              " 'batch_size': 'auto',\n",
              " 'beta_1': 0.9,\n",
              " 'beta_2': 0.999,\n",
              " 'early_stopping': False,\n",
              " 'epsilon': 1e-08,\n",
              " 'hidden_layer_sizes': (10, 10, 10),\n",
              " 'learning_rate': 'constant',\n",
              " 'learning_rate_init': 0.01,\n",
              " 'max_fun': 15000,\n",
              " 'max_iter': 500,\n",
              " 'momentum': 0.9,\n",
              " 'n_iter_no_change': 10,\n",
              " 'nesterovs_momentum': True,\n",
              " 'power_t': 0.5,\n",
              " 'random_state': None,\n",
              " 'shuffle': True,\n",
              " 'solver': 'adam',\n",
              " 'tol': 0.0001,\n",
              " 'validation_fraction': 0.1,\n",
              " 'verbose': False,\n",
              " 'warm_start': False}"
            ]
          },
          "metadata": {},
          "execution_count": 198
        }
      ]
    },
    {
      "cell_type": "markdown",
      "source": [
        "Es notoria la necesidad de optimizar los hiperparametros al mismo tiempo y no cada uno por separado"
      ],
      "metadata": {
        "id": "uyqN9kVhYWaU"
      }
    }
  ]
}